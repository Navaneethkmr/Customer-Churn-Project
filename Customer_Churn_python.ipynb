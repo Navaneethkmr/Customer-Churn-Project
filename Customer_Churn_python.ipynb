{
 "cells": [
  {
   "cell_type": "markdown",
   "metadata": {},
   "source": [
    "#                                        Employee Churn Analysis in Python"
   ]
  },
  {
   "cell_type": "code",
   "execution_count": null,
   "metadata": {},
   "outputs": [],
   "source": [
    "#Load the pre-required libraries\n",
    "import os\n",
    "import pandas as pd\n",
    "import numpy as np\n",
    "import matplotlib.pyplot as plt\n",
    "from scipy.stats import chi2_contingency\n",
    "import seaborn as sns\n",
    "from fancyimpute import KNN"
   ]
  },
  {
   "cell_type": "code",
   "execution_count": 3,
   "metadata": {},
   "outputs": [
    {
     "name": "stdout",
     "output_type": "stream",
     "text": [
      "The shape of train data is :  (3333, 21)\n",
      "The shape of test data is :  (1667, 21)\n",
      "The shape of whole data is :  (5000, 21)\n"
     ]
    },
    {
     "data": {
      "text/html": [
       "<div>\n",
       "<style scoped>\n",
       "    .dataframe tbody tr th:only-of-type {\n",
       "        vertical-align: middle;\n",
       "    }\n",
       "\n",
       "    .dataframe tbody tr th {\n",
       "        vertical-align: top;\n",
       "    }\n",
       "\n",
       "    .dataframe thead th {\n",
       "        text-align: right;\n",
       "    }\n",
       "</style>\n",
       "<table border=\"1\" class=\"dataframe\">\n",
       "  <thead>\n",
       "    <tr style=\"text-align: right;\">\n",
       "      <th></th>\n",
       "      <th>state</th>\n",
       "      <th>account length</th>\n",
       "      <th>area code</th>\n",
       "      <th>phone number</th>\n",
       "      <th>international plan</th>\n",
       "      <th>voice mail plan</th>\n",
       "      <th>number vmail messages</th>\n",
       "      <th>total day minutes</th>\n",
       "      <th>total day calls</th>\n",
       "      <th>total day charge</th>\n",
       "      <th>total eve minutes</th>\n",
       "      <th>total eve calls</th>\n",
       "      <th>total eve charge</th>\n",
       "      <th>total night minutes</th>\n",
       "      <th>total night calls</th>\n",
       "      <th>total night charge</th>\n",
       "      <th>total intl minutes</th>\n",
       "      <th>total intl calls</th>\n",
       "      <th>total intl charge</th>\n",
       "      <th>number customer service calls</th>\n",
       "      <th>Churn</th>\n",
       "    </tr>\n",
       "  </thead>\n",
       "  <tbody>\n",
       "    <tr>\n",
       "      <th>0</th>\n",
       "      <td>KS</td>\n",
       "      <td>128</td>\n",
       "      <td>415</td>\n",
       "      <td>382-4657</td>\n",
       "      <td>no</td>\n",
       "      <td>yes</td>\n",
       "      <td>25</td>\n",
       "      <td>265.1</td>\n",
       "      <td>110</td>\n",
       "      <td>45.07</td>\n",
       "      <td>197.4</td>\n",
       "      <td>99</td>\n",
       "      <td>16.78</td>\n",
       "      <td>244.7</td>\n",
       "      <td>91</td>\n",
       "      <td>11.01</td>\n",
       "      <td>10.0</td>\n",
       "      <td>3</td>\n",
       "      <td>2.70</td>\n",
       "      <td>1</td>\n",
       "      <td>False.</td>\n",
       "    </tr>\n",
       "    <tr>\n",
       "      <th>1</th>\n",
       "      <td>OH</td>\n",
       "      <td>107</td>\n",
       "      <td>415</td>\n",
       "      <td>371-7191</td>\n",
       "      <td>no</td>\n",
       "      <td>yes</td>\n",
       "      <td>26</td>\n",
       "      <td>161.6</td>\n",
       "      <td>123</td>\n",
       "      <td>27.47</td>\n",
       "      <td>195.5</td>\n",
       "      <td>103</td>\n",
       "      <td>16.62</td>\n",
       "      <td>254.4</td>\n",
       "      <td>103</td>\n",
       "      <td>11.45</td>\n",
       "      <td>13.7</td>\n",
       "      <td>3</td>\n",
       "      <td>3.70</td>\n",
       "      <td>1</td>\n",
       "      <td>False.</td>\n",
       "    </tr>\n",
       "    <tr>\n",
       "      <th>2</th>\n",
       "      <td>NJ</td>\n",
       "      <td>137</td>\n",
       "      <td>415</td>\n",
       "      <td>358-1921</td>\n",
       "      <td>no</td>\n",
       "      <td>no</td>\n",
       "      <td>0</td>\n",
       "      <td>243.4</td>\n",
       "      <td>114</td>\n",
       "      <td>41.38</td>\n",
       "      <td>121.2</td>\n",
       "      <td>110</td>\n",
       "      <td>10.30</td>\n",
       "      <td>162.6</td>\n",
       "      <td>104</td>\n",
       "      <td>7.32</td>\n",
       "      <td>12.2</td>\n",
       "      <td>5</td>\n",
       "      <td>3.29</td>\n",
       "      <td>0</td>\n",
       "      <td>False.</td>\n",
       "    </tr>\n",
       "    <tr>\n",
       "      <th>3</th>\n",
       "      <td>OH</td>\n",
       "      <td>84</td>\n",
       "      <td>408</td>\n",
       "      <td>375-9999</td>\n",
       "      <td>yes</td>\n",
       "      <td>no</td>\n",
       "      <td>0</td>\n",
       "      <td>299.4</td>\n",
       "      <td>71</td>\n",
       "      <td>50.90</td>\n",
       "      <td>61.9</td>\n",
       "      <td>88</td>\n",
       "      <td>5.26</td>\n",
       "      <td>196.9</td>\n",
       "      <td>89</td>\n",
       "      <td>8.86</td>\n",
       "      <td>6.6</td>\n",
       "      <td>7</td>\n",
       "      <td>1.78</td>\n",
       "      <td>2</td>\n",
       "      <td>False.</td>\n",
       "    </tr>\n",
       "    <tr>\n",
       "      <th>4</th>\n",
       "      <td>OK</td>\n",
       "      <td>75</td>\n",
       "      <td>415</td>\n",
       "      <td>330-6626</td>\n",
       "      <td>yes</td>\n",
       "      <td>no</td>\n",
       "      <td>0</td>\n",
       "      <td>166.7</td>\n",
       "      <td>113</td>\n",
       "      <td>28.34</td>\n",
       "      <td>148.3</td>\n",
       "      <td>122</td>\n",
       "      <td>12.61</td>\n",
       "      <td>186.9</td>\n",
       "      <td>121</td>\n",
       "      <td>8.41</td>\n",
       "      <td>10.1</td>\n",
       "      <td>3</td>\n",
       "      <td>2.73</td>\n",
       "      <td>3</td>\n",
       "      <td>False.</td>\n",
       "    </tr>\n",
       "    <tr>\n",
       "      <th>5</th>\n",
       "      <td>AL</td>\n",
       "      <td>118</td>\n",
       "      <td>510</td>\n",
       "      <td>391-8027</td>\n",
       "      <td>yes</td>\n",
       "      <td>no</td>\n",
       "      <td>0</td>\n",
       "      <td>223.4</td>\n",
       "      <td>98</td>\n",
       "      <td>37.98</td>\n",
       "      <td>220.6</td>\n",
       "      <td>101</td>\n",
       "      <td>18.75</td>\n",
       "      <td>203.9</td>\n",
       "      <td>118</td>\n",
       "      <td>9.18</td>\n",
       "      <td>6.3</td>\n",
       "      <td>6</td>\n",
       "      <td>1.70</td>\n",
       "      <td>0</td>\n",
       "      <td>False.</td>\n",
       "    </tr>\n",
       "    <tr>\n",
       "      <th>6</th>\n",
       "      <td>MA</td>\n",
       "      <td>121</td>\n",
       "      <td>510</td>\n",
       "      <td>355-9993</td>\n",
       "      <td>no</td>\n",
       "      <td>yes</td>\n",
       "      <td>24</td>\n",
       "      <td>218.2</td>\n",
       "      <td>88</td>\n",
       "      <td>37.09</td>\n",
       "      <td>348.5</td>\n",
       "      <td>108</td>\n",
       "      <td>29.62</td>\n",
       "      <td>212.6</td>\n",
       "      <td>118</td>\n",
       "      <td>9.57</td>\n",
       "      <td>7.5</td>\n",
       "      <td>7</td>\n",
       "      <td>2.03</td>\n",
       "      <td>3</td>\n",
       "      <td>False.</td>\n",
       "    </tr>\n",
       "    <tr>\n",
       "      <th>7</th>\n",
       "      <td>MO</td>\n",
       "      <td>147</td>\n",
       "      <td>415</td>\n",
       "      <td>329-9001</td>\n",
       "      <td>yes</td>\n",
       "      <td>no</td>\n",
       "      <td>0</td>\n",
       "      <td>157.0</td>\n",
       "      <td>79</td>\n",
       "      <td>26.69</td>\n",
       "      <td>103.1</td>\n",
       "      <td>94</td>\n",
       "      <td>8.76</td>\n",
       "      <td>211.8</td>\n",
       "      <td>96</td>\n",
       "      <td>9.53</td>\n",
       "      <td>7.1</td>\n",
       "      <td>6</td>\n",
       "      <td>1.92</td>\n",
       "      <td>0</td>\n",
       "      <td>False.</td>\n",
       "    </tr>\n",
       "    <tr>\n",
       "      <th>8</th>\n",
       "      <td>LA</td>\n",
       "      <td>117</td>\n",
       "      <td>408</td>\n",
       "      <td>335-4719</td>\n",
       "      <td>no</td>\n",
       "      <td>no</td>\n",
       "      <td>0</td>\n",
       "      <td>184.5</td>\n",
       "      <td>97</td>\n",
       "      <td>31.37</td>\n",
       "      <td>351.6</td>\n",
       "      <td>80</td>\n",
       "      <td>29.89</td>\n",
       "      <td>215.8</td>\n",
       "      <td>90</td>\n",
       "      <td>9.71</td>\n",
       "      <td>8.7</td>\n",
       "      <td>4</td>\n",
       "      <td>2.35</td>\n",
       "      <td>1</td>\n",
       "      <td>False.</td>\n",
       "    </tr>\n",
       "    <tr>\n",
       "      <th>9</th>\n",
       "      <td>WV</td>\n",
       "      <td>141</td>\n",
       "      <td>415</td>\n",
       "      <td>330-8173</td>\n",
       "      <td>yes</td>\n",
       "      <td>yes</td>\n",
       "      <td>37</td>\n",
       "      <td>258.6</td>\n",
       "      <td>84</td>\n",
       "      <td>43.96</td>\n",
       "      <td>222.0</td>\n",
       "      <td>111</td>\n",
       "      <td>18.87</td>\n",
       "      <td>326.4</td>\n",
       "      <td>97</td>\n",
       "      <td>14.69</td>\n",
       "      <td>11.2</td>\n",
       "      <td>5</td>\n",
       "      <td>3.02</td>\n",
       "      <td>0</td>\n",
       "      <td>False.</td>\n",
       "    </tr>\n",
       "  </tbody>\n",
       "</table>\n",
       "</div>"
      ],
      "text/plain": [
       "  state  account length  area code phone number international plan  \\\n",
       "0    KS             128        415     382-4657                 no   \n",
       "1    OH             107        415     371-7191                 no   \n",
       "2    NJ             137        415     358-1921                 no   \n",
       "3    OH              84        408     375-9999                yes   \n",
       "4    OK              75        415     330-6626                yes   \n",
       "5    AL             118        510     391-8027                yes   \n",
       "6    MA             121        510     355-9993                 no   \n",
       "7    MO             147        415     329-9001                yes   \n",
       "8    LA             117        408     335-4719                 no   \n",
       "9    WV             141        415     330-8173                yes   \n",
       "\n",
       "  voice mail plan  number vmail messages  total day minutes  total day calls  \\\n",
       "0             yes                     25              265.1              110   \n",
       "1             yes                     26              161.6              123   \n",
       "2              no                      0              243.4              114   \n",
       "3              no                      0              299.4               71   \n",
       "4              no                      0              166.7              113   \n",
       "5              no                      0              223.4               98   \n",
       "6             yes                     24              218.2               88   \n",
       "7              no                      0              157.0               79   \n",
       "8              no                      0              184.5               97   \n",
       "9             yes                     37              258.6               84   \n",
       "\n",
       "   total day charge  total eve minutes  total eve calls  total eve charge  \\\n",
       "0             45.07              197.4               99             16.78   \n",
       "1             27.47              195.5              103             16.62   \n",
       "2             41.38              121.2              110             10.30   \n",
       "3             50.90               61.9               88              5.26   \n",
       "4             28.34              148.3              122             12.61   \n",
       "5             37.98              220.6              101             18.75   \n",
       "6             37.09              348.5              108             29.62   \n",
       "7             26.69              103.1               94              8.76   \n",
       "8             31.37              351.6               80             29.89   \n",
       "9             43.96              222.0              111             18.87   \n",
       "\n",
       "   total night minutes  total night calls  total night charge  \\\n",
       "0                244.7                 91               11.01   \n",
       "1                254.4                103               11.45   \n",
       "2                162.6                104                7.32   \n",
       "3                196.9                 89                8.86   \n",
       "4                186.9                121                8.41   \n",
       "5                203.9                118                9.18   \n",
       "6                212.6                118                9.57   \n",
       "7                211.8                 96                9.53   \n",
       "8                215.8                 90                9.71   \n",
       "9                326.4                 97               14.69   \n",
       "\n",
       "   total intl minutes  total intl calls  total intl charge  \\\n",
       "0                10.0                 3               2.70   \n",
       "1                13.7                 3               3.70   \n",
       "2                12.2                 5               3.29   \n",
       "3                 6.6                 7               1.78   \n",
       "4                10.1                 3               2.73   \n",
       "5                 6.3                 6               1.70   \n",
       "6                 7.5                 7               2.03   \n",
       "7                 7.1                 6               1.92   \n",
       "8                 8.7                 4               2.35   \n",
       "9                11.2                 5               3.02   \n",
       "\n",
       "   number customer service calls    Churn  \n",
       "0                              1   False.  \n",
       "1                              1   False.  \n",
       "2                              0   False.  \n",
       "3                              2   False.  \n",
       "4                              3   False.  \n",
       "5                              0   False.  \n",
       "6                              3   False.  \n",
       "7                              0   False.  \n",
       "8                              1   False.  \n",
       "9                              0   False.  "
      ]
     },
     "execution_count": 3,
     "metadata": {},
     "output_type": "execute_result"
    }
   ],
   "source": [
    "#set the working directory\n",
    "os.chdir(\"C:/Users/Navaneeth/Desktop/Edwisor/Project/Employee Churn\")\n",
    "# Load the train & test data\n",
    "train=pd.read_csv(\"Train_data.csv\")\n",
    "print('The shape of train data is : ',train.shape)\n",
    "test=pd.read_csv(\"Test_data.csv\")\n",
    "print(\"The shape of test data is : \",test.shape)\n",
    "#Combine or row bind the train & test data\n",
    "whole_data=train.append(test).reset_index(drop=True)\n",
    "print(\"The shape of whole data is : \",whole_data.shape)\n",
    "#set display option to display all the columns in a dataframe\n",
    "pd.set_option('display.max_columns', 30)\n",
    "#display first 10 rows of whole data\n",
    "whole_data.head(10)"
   ]
  },
  {
   "cell_type": "code",
   "execution_count": 8,
   "metadata": {},
   "outputs": [
    {
     "name": "stdout",
     "output_type": "stream",
     "text": [
      "<class 'pandas.core.frame.DataFrame'>\n",
      "RangeIndex: 5000 entries, 0 to 4999\n",
      "Data columns (total 21 columns):\n",
      "state                            5000 non-null object\n",
      "account length                   5000 non-null int64\n",
      "area code                        5000 non-null int64\n",
      "phone number                     5000 non-null object\n",
      "international plan               5000 non-null object\n",
      "voice mail plan                  5000 non-null object\n",
      "number vmail messages            5000 non-null int64\n",
      "total day minutes                5000 non-null float64\n",
      "total day calls                  5000 non-null int64\n",
      "total day charge                 5000 non-null float64\n",
      "total eve minutes                5000 non-null float64\n",
      "total eve calls                  5000 non-null int64\n",
      "total eve charge                 5000 non-null float64\n",
      "total night minutes              5000 non-null float64\n",
      "total night calls                5000 non-null int64\n",
      "total night charge               5000 non-null float64\n",
      "total intl minutes               5000 non-null float64\n",
      "total intl calls                 5000 non-null int64\n",
      "total intl charge                5000 non-null float64\n",
      "number customer service calls    5000 non-null int64\n",
      "Churn                            5000 non-null object\n",
      "dtypes: float64(8), int64(8), object(5)\n",
      "memory usage: 820.4+ KB\n"
     ]
    }
   ],
   "source": [
    "#Check for the variables' datatypes and other info\n",
    "whole_data.info()"
   ]
  },
  {
   "cell_type": "code",
   "execution_count": 15,
   "metadata": {},
   "outputs": [
    {
     "name": "stdout",
     "output_type": "stream",
     "text": [
      "The unique values present in area code are : [415 408 510]\n"
     ]
    }
   ],
   "source": [
    "#check unique values in area code and change it to categorical\n",
    "print(\"The unique values present in area code are :\",whole_data['area code'].unique())\n",
    "whole_data['area code']=whole_data['area code'].astype('object')\n"
   ]
  },
  {
   "cell_type": "code",
   "execution_count": 16,
   "metadata": {},
   "outputs": [
    {
     "data": {
      "text/plain": [
       "Low         4601\n",
       "Moderate     382\n",
       "High          17\n",
       "Name: number customer service calls, dtype: int64"
      ]
     },
     "execution_count": 16,
     "metadata": {},
     "output_type": "execute_result"
    }
   ],
   "source": [
    "#Convert 'number customer service calls' variable to bins\n",
    "whole_data['number customer service calls']= np.where((whole_data['number customer service calls'] >=0) & (whole_data['number customer service calls'] <=3),'Low',np.where((whole_data['number customer service calls'] >3) & (whole_data['number customer service calls'] <=6), 'Moderate','High'))\n",
    "whole_data['number customer service calls']=whole_data['number customer service calls'].astype('object')\n",
    "#Check the count of unique values in 'number customer service calls'\n",
    "whole_data['number customer service calls'].value_counts()"
   ]
  },
  {
   "cell_type": "code",
   "execution_count": 3,
   "metadata": {
    "scrolled": false
   },
   "outputs": [
    {
     "data": {
      "image/png": "[encoded data removed]",
      "text/plain": [
       "<Figure size 432x288 with 1 Axes>"
      ]
     },
     "metadata": {
      "needs_background": "light"
     },
     "output_type": "display_data"
    },
    {
     "data": {
      "image/png": "[encoded data removed]",
      "text/plain": [
       "<Figure size 432x288 with 1 Axes>"
      ]
     },
     "metadata": {
      "needs_background": "light"
     },
     "output_type": "display_data"
    },
    {
     "data": {
      "image/png": "[encoded data removed]",
      "text/plain": [
       "<Figure size 432x288 with 1 Axes>"
      ]
     },
     "metadata": {
      "needs_background": "light"
     },
     "output_type": "display_data"
    },
    {
     "data": {
      "image/png": "[encoded data removed]",
      "text/plain": [
       "<Figure size 432x288 with 1 Axes>"
      ]
     },
     "metadata": {
      "needs_background": "light"
     },
     "output_type": "display_data"
    },
    {
     "data": {
      "image/png": "[encoded data removed]",
      "text/plain": [
       "<Figure size 432x288 with 1 Axes>"
      ]
     },
     "metadata": {
      "needs_background": "light"
     },
     "output_type": "display_data"
    },
    {
     "data": {
      "image/png": "[encoded data removed]",
      "text/plain": [
       "<Figure size 432x288 with 1 Axes>"
      ]
     },
     "metadata": {
      "needs_background": "light"
     },
     "output_type": "display_data"
    },
    {
     "data": {
      "image/png": "[encoded data removed]",
      "text/plain": [
       "<Figure size 432x288 with 1 Axes>"
      ]
     },
     "metadata": {
      "needs_background": "light"
     },
     "output_type": "display_data"
    },
    {
     "data": {
      "image/png": "[encoded data removed]",
      "text/plain": [
       "<Figure size 432x288 with 1 Axes>"
      ]
     },
     "metadata": {
      "needs_background": "light"
     },
     "output_type": "display_data"
    },
    {
     "data": {
      "image/png": "[encoded data removed]",
      "text/plain": [
       "<Figure size 432x288 with 1 Axes>"
      ]
     },
     "metadata": {
      "needs_background": "light"
     },
     "output_type": "display_data"
    },
    {
     "data": {
      "image/png": "[encoded data removed]",
      "text/plain": [
       "<Figure size 432x288 with 1 Axes>"
      ]
     },
     "metadata": {
      "needs_background": "light"
     },
     "output_type": "display_data"
    },
    {
     "data": {
      "image/png": "[encoded data removed]",
      "text/plain": [
       "<Figure size 432x288 with 1 Axes>"
      ]
     },
     "metadata": {
      "needs_background": "light"
     },
     "output_type": "display_data"
    },
    {
     "data": {
      "image/png": "[encoded data removed]",
      "text/plain": [
       "<Figure size 432x288 with 1 Axes>"
      ]
     },
     "metadata": {
      "needs_background": "light"
     },
     "output_type": "display_data"
    },
    {
     "data": {
      "image/png": "[encoded data removed]",
      "text/plain": [
       "<Figure size 432x288 with 1 Axes>"
      ]
     },
     "metadata": {
      "needs_background": "light"
     },
     "output_type": "display_data"
    },
    {
     "data": {
      "image/png": "[encoded data removed]",
      "text/plain": [
       "<Figure size 432x288 with 1 Axes>"
      ]
     },
     "metadata": {
      "needs_background": "light"
     },
     "output_type": "display_data"
    }
   ],
   "source": [
    "# Density plots 0f numeric predictor variables\n",
    "names=['account length','number vmail messages','total day minutes','total day calls','total day charge','total eve minutes',\n",
    "      'total eve calls','total eve charge','total night minutes','total night calls','total night charge','total intl minutes',\n",
    "      'total intl calls','total intl charge']\n",
    "for i in names :\n",
    "    pd.DataFrame(train[i]).plot(kind='density')\n"
   ]
  },
  {
   "cell_type": "code",
   "execution_count": 16,
   "metadata": {},
   "outputs": [
    {
     "data": {
      "text/plain": [
       "Text(0.5,0,'voice mail messages')"
      ]
     },
     "execution_count": 16,
     "metadata": {},
     "output_type": "execute_result"
    },
    {
     "data": {
      "text/plain": [
       "<Figure size 720x1080 with 0 Axes>"
      ]
     },
     "metadata": {},
     "output_type": "display_data"
    },
    {
     "data": {
      "image/png": "[encoded data removed]",
      "text/plain": [
       "<Figure size 432x288 with 2 Axes>"
      ]
     },
     "metadata": {
      "needs_background": "light"
     },
     "output_type": "display_data"
    }
   ],
   "source": [
    "# Plot of Number of voicemail messages by Class\n",
    "\n",
    "plt.figure(figsize = (10,15))\n",
    "train.hist('number vmail messages', by = 'Churn')\n",
    "plt.ylabel('Count', fontsize = 20)\n",
    "plt.xlabel('voice mail messages', fontsize = 20)\n",
    "#plt.savefig('voicemail.png')"
   ]
  },
  {
   "cell_type": "code",
   "execution_count": 15,
   "metadata": {},
   "outputs": [
    {
     "data": {
      "text/plain": [
       "Text(0.5,0,'Intl calls')"
      ]
     },
     "execution_count": 15,
     "metadata": {},
     "output_type": "execute_result"
    },
    {
     "data": {
      "image/png": "[encoded data removed]",
      "text/plain": [
       "<Figure size 432x288 with 2 Axes>"
      ]
     },
     "metadata": {
      "needs_background": "light"
     },
     "output_type": "display_data"
    }
   ],
   "source": [
    "# Plot of Total Intl calls by Class\n",
    "\n",
    "#plt.figure(figsize = (10,15))\n",
    "train.hist('total intl calls', by = 'Churn')\n",
    "plt.ylabel('Count', fontsize = 20)\n",
    "plt.xlabel('Intl calls', fontsize = 20)\n",
    "#plt.savefig('total intl calls.png')"
   ]
  },
  {
   "cell_type": "code",
   "execution_count": 18,
   "metadata": {},
   "outputs": [
    {
     "data": {
      "text/plain": [
       "Text(0.5,0,'Customer service calls')"
      ]
     },
     "execution_count": 18,
     "metadata": {},
     "output_type": "execute_result"
    },
    {
     "data": {
      "text/plain": [
       "<Figure size 720x1080 with 0 Axes>"
      ]
     },
     "metadata": {},
     "output_type": "display_data"
    },
    {
     "data": {
      "image/png": "[encoded data removed]",
      "text/plain": [
       "<Figure size 432x288 with 2 Axes>"
      ]
     },
     "metadata": {
      "needs_background": "light"
     },
     "output_type": "display_data"
    }
   ],
   "source": [
    "# Plot of Number of customer service calls by Class\n",
    "\n",
    "plt.figure(figsize = (10,15))\n",
    "train.hist('number customer service calls', by = 'Churn')\n",
    "plt.ylabel('Count', fontsize = 20)\n",
    "plt.xlabel('Customer service calls', fontsize = 20)\n",
    "#plt.savefig('Customerservivecalls.png')"
   ]
  },
  {
   "cell_type": "code",
   "execution_count": 4,
   "metadata": {},
   "outputs": [
    {
     "data": {
      "text/plain": [
       "Text(0,0.5,'Count')"
      ]
     },
     "execution_count": 4,
     "metadata": {},
     "output_type": "execute_result"
    },
    {
     "data": {
      "image/png": "[encoded data removed]",
      "text/plain": [
       "<Figure size 1080x720 with 1 Axes>"
      ]
     },
     "metadata": {
      "needs_background": "light"
     },
     "output_type": "display_data"
    }
   ],
   "source": [
    "# Plot of States\n",
    "\n",
    "plt.figure(figsize = (15,10))\n",
    "sns.countplot('state', data= train)\n",
    "plt.xlabel('State', fontsize = 20)\n",
    "plt.ylabel('Count', fontsize = 20)\n",
    "#plt.savefig('state.png')"
   ]
  },
  {
   "cell_type": "code",
   "execution_count": 6,
   "metadata": {},
   "outputs": [
    {
     "name": "stdout",
     "output_type": "stream",
     "text": [
      "<class 'pandas.core.frame.DataFrame'>\n",
      "RangeIndex: 5000 entries, 0 to 4999\n",
      "Data columns (total 21 columns):\n",
      "state                            5000 non-null object\n",
      "account length                   5000 non-null int64\n",
      "area code                        5000 non-null int64\n",
      "phone number                     5000 non-null object\n",
      "international plan               5000 non-null object\n",
      "voice mail plan                  5000 non-null object\n",
      "number vmail messages            5000 non-null int64\n",
      "total day minutes                5000 non-null float64\n",
      "total day calls                  5000 non-null int64\n",
      "total day charge                 5000 non-null float64\n",
      "total eve minutes                5000 non-null float64\n",
      "total eve calls                  5000 non-null int64\n",
      "total eve charge                 5000 non-null float64\n",
      "total night minutes              5000 non-null float64\n",
      "total night calls                5000 non-null int64\n",
      "total night charge               5000 non-null float64\n",
      "total intl minutes               5000 non-null float64\n",
      "total intl calls                 5000 non-null int64\n",
      "total intl charge                5000 non-null float64\n",
      "number customer service calls    5000 non-null int64\n",
      "Churn                            5000 non-null object\n",
      "dtypes: float64(8), int64(8), object(5)\n",
      "memory usage: 820.4+ KB\n"
     ]
    }
   ],
   "source": [
    "# To look at the dataset info\n",
    "whole_data.info()"
   ]
  },
  {
   "cell_type": "code",
   "execution_count": 17,
   "metadata": {},
   "outputs": [
    {
     "name": "stdout",
     "output_type": "stream",
     "text": [
      "The train data has 3333 rows with % of train data being  66.66\n",
      "The test data has 1667 rows with % of test data being  33.339999999999996\n"
     ]
    }
   ],
   "source": [
    "#Dispaly the percentage of train and test data\n",
    "train_row= train.shape[0]\n",
    "test_row=test.shape[0]\n",
    "total_row= train_row+test_row\n",
    "print(\"The train data has\",train_row,\"rows\",\"with % of train data being \",((train_row/total_row)*100))\n",
    "print(\"The test data has\",test_row,\"rows\",\"with % of test data being \",((test_row/total_row)*100))"
   ]
  },
  {
   "cell_type": "code",
   "execution_count": 18,
   "metadata": {},
   "outputs": [
    {
     "name": "stdout",
     "output_type": "stream",
     "text": [
      " False.    2850\n",
      " True.      483\n",
      "Name: Churn, dtype: int64\n"
     ]
    }
   ],
   "source": [
    "#Check the presence of class imbalance in the train data\n",
    "train_class= train['Churn'] .value_counts()\n",
    "print(train_class)"
   ]
  },
  {
   "cell_type": "markdown",
   "metadata": {},
   "source": [
    "# Missing value Analysis"
   ]
  },
  {
   "cell_type": "code",
   "execution_count": 19,
   "metadata": {},
   "outputs": [
    {
     "name": "stdout",
     "output_type": "stream",
     "text": [
      "                        Variables  Missing_percentage\n",
      "0                           state                 0.0\n",
      "1                 total eve calls                 0.0\n",
      "2   number customer service calls                 0.0\n",
      "3               total intl charge                 0.0\n",
      "4                total intl calls                 0.0\n",
      "5              total intl minutes                 0.0\n",
      "6              total night charge                 0.0\n",
      "7               total night calls                 0.0\n",
      "8             total night minutes                 0.0\n",
      "9                total eve charge                 0.0\n",
      "10              total eve minutes                 0.0\n",
      "11                 account length                 0.0\n",
      "12               total day charge                 0.0\n",
      "13                total day calls                 0.0\n",
      "14              total day minutes                 0.0\n",
      "15          number vmail messages                 0.0\n",
      "16                voice mail plan                 0.0\n",
      "17             international plan                 0.0\n",
      "18                   phone number                 0.0\n",
      "19                      area code                 0.0\n",
      "20                          Churn                 0.0\n"
     ]
    }
   ],
   "source": [
    "#Store the sum of null values as a dataframe in a new variable\n",
    "missing_val = pd.DataFrame(whole_data.isnull().sum())\n",
    "#Reset index\n",
    "missing_val = missing_val.reset_index()\n",
    "#Rename variables\n",
    "missing_val = missing_val.rename(columns = {'index': 'Variables', 0: 'Missing_percentage'})\n",
    "#Calculate percentage\n",
    "missing_val['Missing_percentage'] = (missing_val['Missing_percentage']/len(whole_data))*100\n",
    "#descending order\n",
    "missing_val = missing_val.sort_values('Missing_percentage', ascending = False).reset_index(drop = True)\n",
    "print(missing_val)"
   ]
  },
  {
   "cell_type": "code",
   "execution_count": 20,
   "metadata": {},
   "outputs": [
    {
     "name": "stdout",
     "output_type": "stream",
     "text": [
      "The numeric variables are : ['account length', 'number vmail messages', 'total day minutes', 'total day calls', 'total day charge', 'total eve minutes', 'total eve calls', 'total eve charge', 'total night minutes', 'total night calls', 'total night charge', 'total intl minutes', 'total intl calls', 'total intl charge']\n",
      "The categorical variables are : ['state', 'area code', 'phone number', 'international plan', 'voice mail plan', 'number customer service calls', 'Churn']\n"
     ]
    }
   ],
   "source": [
    "# Segregate the numeric and categorical variables through loop\n",
    "cnames=[]\n",
    "cat_names=[]\n",
    "for i in range(0,whole_data.shape[1]):\n",
    "    if(whole_data.iloc[:,i].dtypes == 'object'):\n",
    "        #print('variable',whole_data.columns[i],'is object datatype')\n",
    "        cat_names.append(whole_data.columns[i])\n",
    "    else :\n",
    "        if(whole_data.iloc[:,i].dtypes == 'int64' or whole_data.iloc[:,i].dtypes =='float64'):\n",
    "            #print('variable',whole_data.columns[i],'is numeric datatype')\n",
    "            cnames.append(whole_data.columns[i])\n",
    "            \n",
    "            \n",
    "print(\"The numeric variables are :\",cnames)\n",
    "print(\"The categorical variables are :\",cat_names)"
   ]
  },
  {
   "cell_type": "markdown",
   "metadata": {},
   "source": [
    "# Outlier Analysis & Treatment"
   ]
  },
  {
   "cell_type": "code",
   "execution_count": 21,
   "metadata": {},
   "outputs": [
    {
     "data": {
      "image/png": "[encoded data removed]",
      "text/plain": [
       "<Figure size 432x288 with 1 Axes>"
      ]
     },
     "metadata": {
      "needs_background": "light"
     },
     "output_type": "display_data"
    },
    {
     "data": {
      "image/png": "[encoded data removed]",
      "text/plain": [
       "<Figure size 432x288 with 1 Axes>"
      ]
     },
     "metadata": {
      "needs_background": "light"
     },
     "output_type": "display_data"
    },
    {
     "data": {
      "image/png": "[encoded data removed]",
      "text/plain": [
       "<Figure size 432x288 with 1 Axes>"
      ]
     },
     "metadata": {
      "needs_background": "light"
     },
     "output_type": "display_data"
    },
    {
     "data": {
      "image/png": "[encoded data removed]",
      "text/plain": [
       "<Figure size 432x288 with 1 Axes>"
      ]
     },
     "metadata": {
      "needs_background": "light"
     },
     "output_type": "display_data"
    },
    {
     "data": {
      "image/png": "[encoded data removed]",
      "text/plain": [
       "<Figure size 432x288 with 1 Axes>"
      ]
     },
     "metadata": {
      "needs_background": "light"
     },
     "output_type": "display_data"
    },
    {
     "data": {
      "image/png": "[encoded data removed]",
      "text/plain": [
       "<Figure size 432x288 with 1 Axes>"
      ]
     },
     "metadata": {
      "needs_background": "light"
     },
     "output_type": "display_data"
    },
    {
     "data": {
      "image/png": "[encoded data removed]",
      "text/plain": [
       "<Figure size 432x288 with 1 Axes>"
      ]
     },
     "metadata": {
      "needs_background": "light"
     },
     "output_type": "display_data"
    },
    {
     "data": {
      "image/png": "[encoded data removed]",
      "text/plain": [
       "<Figure size 432x288 with 1 Axes>"
      ]
     },
     "metadata": {
      "needs_background": "light"
     },
     "output_type": "display_data"
    },
    {
     "data": {
      "image/png": "[encoded data removed]",
      "text/plain": [
       "<Figure size 432x288 with 1 Axes>"
      ]
     },
     "metadata": {
      "needs_background": "light"
     },
     "output_type": "display_data"
    },
    {
     "data": {
      "image/png": "[encoded data removed]",
      "text/plain": [
       "<Figure size 432x288 with 1 Axes>"
      ]
     },
     "metadata": {
      "needs_background": "light"
     },
     "output_type": "display_data"
    },
    {
     "data": {
      "image/png": "[encoded data removed]",
      "text/plain": [
       "<Figure size 432x288 with 1 Axes>"
      ]
     },
     "metadata": {
      "needs_background": "light"
     },
     "output_type": "display_data"
    },
    {
     "data": {
      "image/png": "[encoded data removed]",
      "text/plain": [
       "<Figure size 432x288 with 1 Axes>"
      ]
     },
     "metadata": {
      "needs_background": "light"
     },
     "output_type": "display_data"
    },
    {
     "data": {
      "image/png": "[encoded data removed]",
      "text/plain": [
       "<Figure size 432x288 with 1 Axes>"
      ]
     },
     "metadata": {
      "needs_background": "light"
     },
     "output_type": "display_data"
    },
    {
     "data": {
      "image/png": "[encoded data removed]",
      "text/plain": [
       "<Figure size 432x288 with 1 Axes>"
      ]
     },
     "metadata": {
      "needs_background": "light"
     },
     "output_type": "display_data"
    }
   ],
   "source": [
    "# Plotting boxplot to visulaize outliers for all the numeric variables\n",
    "%matplotlib inline\n",
    "for i in cnames :\n",
    "    plt.figure()\n",
    "    plt.clf()\n",
    "    plt.boxplot(whole_data[i])\n",
    "    plt.title(i)\n",
    "    #plt.savefig(i)\n",
    "    plt.show()"
   ]
  },
  {
   "cell_type": "code",
   "execution_count": 22,
   "metadata": {},
   "outputs": [
    {
     "name": "stdout",
     "output_type": "stream",
     "text": [
      "account length\n",
      "Minimum value is -8.0\n",
      "Maximum value is 208.0\n",
      "number vmail messages\n",
      "Minimum value is -25.5\n",
      "Maximum value is 42.5\n",
      "total day minutes\n",
      "Minimum value is 34.94999999999999\n",
      "Maximum value is 324.95\n",
      "total day calls\n",
      "Minimum value is 48.0\n",
      "Maximum value is 152.0\n",
      "total day charge\n"
     ]
    },
    {
     "name": "stderr",
     "output_type": "stream",
     "text": [
      "C:\\Users\\Navaneeth\\Anaconda3\\lib\\site-packages\\ipykernel_launcher.py:12: SettingWithCopyWarning: \n",
      "A value is trying to be set on a copy of a slice from a DataFrame\n",
      "\n",
      "See the caveats in the documentation: http://pandas.pydata.org/pandas-docs/stable/indexing.html#indexing-view-versus-copy\n",
      "  if sys.path[0] == '':\n",
      "C:\\Users\\Navaneeth\\Anaconda3\\lib\\site-packages\\ipykernel_launcher.py:13: SettingWithCopyWarning: \n",
      "A value is trying to be set on a copy of a slice from a DataFrame\n",
      "\n",
      "See the caveats in the documentation: http://pandas.pydata.org/pandas-docs/stable/indexing.html#indexing-view-versus-copy\n",
      "  del sys.path[0]\n"
     ]
    },
    {
     "name": "stdout",
     "output_type": "stream",
     "text": [
      "Minimum value is 5.949999999999999\n",
      "Maximum value is 55.230000000000004\n",
      "total eve minutes\n",
      "Minimum value is 64.78750000000001\n",
      "Maximum value is 335.6875\n",
      "total eve calls\n",
      "Minimum value is 46.5\n",
      "Maximum value is 154.5\n",
      "total eve charge\n",
      "Minimum value is 5.5000000000000036\n",
      "Maximum value is 28.539999999999996\n",
      "total night minutes\n",
      "Minimum value is 65.20000000000003\n",
      "Maximum value is 336.4\n",
      "total night calls\n",
      "Minimum value is 48.0\n",
      "Maximum value is 152.0\n",
      "total night charge\n",
      "Minimum value is 2.9349999999999987\n",
      "Maximum value is 15.135000000000002\n",
      "total intl minutes\n",
      "Minimum value is 3.25\n",
      "Maximum value is 17.25\n",
      "total intl calls\n",
      "Minimum value is -1.5\n",
      "Maximum value is 10.5\n",
      "total intl charge\n",
      "Minimum value is 0.8899999999999992\n",
      "Maximum value is 4.65\n"
     ]
    }
   ],
   "source": [
    "# Replacing Outliers with NAs\n",
    "for i in cnames:\n",
    "    print(i)\n",
    "    q75,q25=np.percentile(whole_data.loc[:,i],[75,25])\n",
    "    iqr= q75-q25\n",
    "    \n",
    "    minimum = q25-(1.5*iqr)\n",
    "    maximum = q75+(1.5*iqr)\n",
    "    print('Minimum value is',minimum)\n",
    "    print('Maximum value is',maximum)\n",
    "     \n",
    "    whole_data.loc[:,i][whole_data.loc[:,i] < minimum]= np.nan\n",
    "    whole_data.loc[:,i][whole_data.loc[:,i] > maximum]= np.nan"
   ]
  },
  {
   "cell_type": "code",
   "execution_count": 23,
   "metadata": {},
   "outputs": [
    {
     "name": "stdout",
     "output_type": "stream",
     "text": [
      "                        Variables  Outlier Percentage\n",
      "0                total intl calls                2.36\n",
      "1               total intl charge                1.44\n",
      "2              total intl minutes                1.44\n",
      "3           number vmail messages                1.20\n",
      "4               total eve minutes                0.86\n",
      "5               total night calls                0.86\n",
      "6                total eve charge                0.84\n",
      "7              total night charge                0.78\n",
      "8             total night minutes                0.78\n",
      "9                 total day calls                0.70\n",
      "10              total day minutes                0.68\n",
      "11               total day charge                0.68\n",
      "12                total eve calls                0.54\n",
      "13                 account length                0.48\n",
      "14  number customer service calls                0.00\n",
      "15                          state                0.00\n",
      "16                voice mail plan                0.00\n",
      "17             international plan                0.00\n",
      "18                   phone number                0.00\n",
      "19                      area code                0.00\n",
      "20                          Churn                0.00\n"
     ]
    }
   ],
   "source": [
    "# Find the percentage of Outliers by using a function\n",
    "def outlier_percentage():\n",
    "    Outlier_values= pd.DataFrame(whole_data.isnull().sum())\n",
    "    #Reset index\n",
    "    Outlier_values= Outlier_values.reset_index()\n",
    "    #Rename variable\n",
    "    Outlier_values= Outlier_values.rename(columns = {'index': 'Variables', 0: 'Outlier Percentage'})\n",
    "    #Calculate percentage\n",
    "    Outlier_values['Outlier Percentage'] = (Outlier_values['Outlier Percentage']/len(whole_data))*100\n",
    "    #descending order\n",
    "    Outlier_values= Outlier_values.sort_values('Outlier Percentage', ascending = False).reset_index(drop = True)\n",
    "    return(print(Outlier_values))\n",
    "\n",
    "outlier_percentage()"
   ]
  },
  {
   "cell_type": "code",
   "execution_count": 24,
   "metadata": {},
   "outputs": [
    {
     "name": "stdout",
     "output_type": "stream",
     "text": [
      "state\n",
      "area code\n",
      "phone number\n",
      "international plan\n",
      "voice mail plan\n",
      "number customer service calls\n",
      "Churn\n"
     ]
    }
   ],
   "source": [
    "#converting the categorical variables with its corresponding cat codes\n",
    "for i in cat_names:\n",
    "    print(i)\n",
    "    if(whole_data.loc[:,i].dtypes=='object'):\n",
    "        whole_data.loc[:,i]=pd.Categorical(whole_data.loc[:,i])\n",
    "        whole_data.loc[:,i]=whole_data.loc[:,i].cat.codes\n",
    "        whole_data.loc[:,i]=whole_data.loc[:,i].astype('object')\n",
    "        \n",
    "    else :\n",
    "        print(\"check the cat_names list\")\n",
    "        "
   ]
  },
  {
   "cell_type": "code",
   "execution_count": 26,
   "metadata": {},
   "outputs": [
    {
     "data": {
      "text/html": [
       "<div>\n",
       "<style scoped>\n",
       "    .dataframe tbody tr th:only-of-type {\n",
       "        vertical-align: middle;\n",
       "    }\n",
       "\n",
       "    .dataframe tbody tr th {\n",
       "        vertical-align: top;\n",
       "    }\n",
       "\n",
       "    .dataframe thead th {\n",
       "        text-align: right;\n",
       "    }\n",
       "</style>\n",
       "<table border=\"1\" class=\"dataframe\">\n",
       "  <thead>\n",
       "    <tr style=\"text-align: right;\">\n",
       "      <th></th>\n",
       "      <th>state</th>\n",
       "      <th>account length</th>\n",
       "      <th>area code</th>\n",
       "      <th>phone number</th>\n",
       "      <th>international plan</th>\n",
       "      <th>voice mail plan</th>\n",
       "      <th>number vmail messages</th>\n",
       "      <th>total day minutes</th>\n",
       "      <th>total day calls</th>\n",
       "      <th>total day charge</th>\n",
       "      <th>total eve minutes</th>\n",
       "      <th>total eve calls</th>\n",
       "      <th>total eve charge</th>\n",
       "      <th>total night minutes</th>\n",
       "      <th>total night calls</th>\n",
       "      <th>total night charge</th>\n",
       "      <th>total intl minutes</th>\n",
       "      <th>total intl calls</th>\n",
       "      <th>total intl charge</th>\n",
       "      <th>number customer service calls</th>\n",
       "      <th>Churn</th>\n",
       "    </tr>\n",
       "  </thead>\n",
       "  <tbody>\n",
       "    <tr>\n",
       "      <th>0</th>\n",
       "      <td>16</td>\n",
       "      <td>128.0</td>\n",
       "      <td>1</td>\n",
       "      <td>2845</td>\n",
       "      <td>0</td>\n",
       "      <td>1</td>\n",
       "      <td>25.0</td>\n",
       "      <td>265.1</td>\n",
       "      <td>110.0</td>\n",
       "      <td>45.07</td>\n",
       "      <td>197.4</td>\n",
       "      <td>99.0</td>\n",
       "      <td>16.78</td>\n",
       "      <td>244.7</td>\n",
       "      <td>91.0</td>\n",
       "      <td>11.01</td>\n",
       "      <td>10.0</td>\n",
       "      <td>3.0</td>\n",
       "      <td>2.70</td>\n",
       "      <td>1</td>\n",
       "      <td>0</td>\n",
       "    </tr>\n",
       "    <tr>\n",
       "      <th>1</th>\n",
       "      <td>35</td>\n",
       "      <td>107.0</td>\n",
       "      <td>1</td>\n",
       "      <td>2301</td>\n",
       "      <td>0</td>\n",
       "      <td>1</td>\n",
       "      <td>26.0</td>\n",
       "      <td>161.6</td>\n",
       "      <td>123.0</td>\n",
       "      <td>27.47</td>\n",
       "      <td>195.5</td>\n",
       "      <td>103.0</td>\n",
       "      <td>16.62</td>\n",
       "      <td>254.4</td>\n",
       "      <td>103.0</td>\n",
       "      <td>11.45</td>\n",
       "      <td>13.7</td>\n",
       "      <td>3.0</td>\n",
       "      <td>3.70</td>\n",
       "      <td>1</td>\n",
       "      <td>0</td>\n",
       "    </tr>\n",
       "    <tr>\n",
       "      <th>2</th>\n",
       "      <td>31</td>\n",
       "      <td>137.0</td>\n",
       "      <td>1</td>\n",
       "      <td>1616</td>\n",
       "      <td>0</td>\n",
       "      <td>0</td>\n",
       "      <td>0.0</td>\n",
       "      <td>243.4</td>\n",
       "      <td>114.0</td>\n",
       "      <td>41.38</td>\n",
       "      <td>121.2</td>\n",
       "      <td>110.0</td>\n",
       "      <td>10.30</td>\n",
       "      <td>162.6</td>\n",
       "      <td>104.0</td>\n",
       "      <td>7.32</td>\n",
       "      <td>12.2</td>\n",
       "      <td>5.0</td>\n",
       "      <td>3.29</td>\n",
       "      <td>1</td>\n",
       "      <td>0</td>\n",
       "    </tr>\n",
       "    <tr>\n",
       "      <th>3</th>\n",
       "      <td>35</td>\n",
       "      <td>84.0</td>\n",
       "      <td>0</td>\n",
       "      <td>2510</td>\n",
       "      <td>1</td>\n",
       "      <td>0</td>\n",
       "      <td>0.0</td>\n",
       "      <td>299.4</td>\n",
       "      <td>71.0</td>\n",
       "      <td>50.90</td>\n",
       "      <td>NaN</td>\n",
       "      <td>88.0</td>\n",
       "      <td>NaN</td>\n",
       "      <td>196.9</td>\n",
       "      <td>89.0</td>\n",
       "      <td>8.86</td>\n",
       "      <td>6.6</td>\n",
       "      <td>7.0</td>\n",
       "      <td>1.78</td>\n",
       "      <td>1</td>\n",
       "      <td>0</td>\n",
       "    </tr>\n",
       "    <tr>\n",
       "      <th>4</th>\n",
       "      <td>36</td>\n",
       "      <td>75.0</td>\n",
       "      <td>1</td>\n",
       "      <td>155</td>\n",
       "      <td>1</td>\n",
       "      <td>0</td>\n",
       "      <td>0.0</td>\n",
       "      <td>166.7</td>\n",
       "      <td>113.0</td>\n",
       "      <td>28.34</td>\n",
       "      <td>148.3</td>\n",
       "      <td>122.0</td>\n",
       "      <td>12.61</td>\n",
       "      <td>186.9</td>\n",
       "      <td>121.0</td>\n",
       "      <td>8.41</td>\n",
       "      <td>10.1</td>\n",
       "      <td>3.0</td>\n",
       "      <td>2.73</td>\n",
       "      <td>1</td>\n",
       "      <td>0</td>\n",
       "    </tr>\n",
       "  </tbody>\n",
       "</table>\n",
       "</div>"
      ],
      "text/plain": [
       "  state  account length area code phone number international plan  \\\n",
       "0    16           128.0         1         2845                  0   \n",
       "1    35           107.0         1         2301                  0   \n",
       "2    31           137.0         1         1616                  0   \n",
       "3    35            84.0         0         2510                  1   \n",
       "4    36            75.0         1          155                  1   \n",
       "\n",
       "  voice mail plan  number vmail messages  total day minutes  total day calls  \\\n",
       "0               1                   25.0              265.1            110.0   \n",
       "1               1                   26.0              161.6            123.0   \n",
       "2               0                    0.0              243.4            114.0   \n",
       "3               0                    0.0              299.4             71.0   \n",
       "4               0                    0.0              166.7            113.0   \n",
       "\n",
       "   total day charge  total eve minutes  total eve calls  total eve charge  \\\n",
       "0             45.07              197.4             99.0             16.78   \n",
       "1             27.47              195.5            103.0             16.62   \n",
       "2             41.38              121.2            110.0             10.30   \n",
       "3             50.90                NaN             88.0               NaN   \n",
       "4             28.34              148.3            122.0             12.61   \n",
       "\n",
       "   total night minutes  total night calls  total night charge  \\\n",
       "0                244.7               91.0               11.01   \n",
       "1                254.4              103.0               11.45   \n",
       "2                162.6              104.0                7.32   \n",
       "3                196.9               89.0                8.86   \n",
       "4                186.9              121.0                8.41   \n",
       "\n",
       "   total intl minutes  total intl calls  total intl charge  \\\n",
       "0                10.0               3.0               2.70   \n",
       "1                13.7               3.0               3.70   \n",
       "2                12.2               5.0               3.29   \n",
       "3                 6.6               7.0               1.78   \n",
       "4                10.1               3.0               2.73   \n",
       "\n",
       "  number customer service calls Churn  \n",
       "0                             1     0  \n",
       "1                             1     0  \n",
       "2                             1     0  \n",
       "3                             1     0  \n",
       "4                             1     0  "
      ]
     },
     "execution_count": 26,
     "metadata": {},
     "output_type": "execute_result"
    }
   ],
   "source": [
    "#visualize the catcoded dataset\n",
    "whole_data.head(5)"
   ]
  },
  {
   "cell_type": "code",
   "execution_count": 29,
   "metadata": {},
   "outputs": [
    {
     "name": "stdout",
     "output_type": "stream",
     "text": [
      "Imputing row 1/5000 with 0 missing, elapsed time: 5.873\n",
      "Imputing row 101/5000 with 0 missing, elapsed time: 5.873\n",
      "Imputing row 201/5000 with 0 missing, elapsed time: 5.873\n",
      "Imputing row 301/5000 with 0 missing, elapsed time: 5.889\n",
      "Imputing row 401/5000 with 0 missing, elapsed time: 5.889\n",
      "Imputing row 501/5000 with 0 missing, elapsed time: 5.889\n",
      "Imputing row 601/5000 with 0 missing, elapsed time: 5.889\n",
      "Imputing row 701/5000 with 0 missing, elapsed time: 5.889\n",
      "Imputing row 801/5000 with 0 missing, elapsed time: 5.889\n",
      "Imputing row 901/5000 with 0 missing, elapsed time: 5.889\n",
      "Imputing row 1001/5000 with 0 missing, elapsed time: 5.889\n",
      "Imputing row 1101/5000 with 0 missing, elapsed time: 5.889\n",
      "Imputing row 1201/5000 with 1 missing, elapsed time: 5.889\n",
      "Imputing row 1301/5000 with 0 missing, elapsed time: 5.889\n",
      "Imputing row 1401/5000 with 2 missing, elapsed time: 5.889\n",
      "Imputing row 1501/5000 with 0 missing, elapsed time: 5.904\n",
      "Imputing row 1601/5000 with 0 missing, elapsed time: 5.904\n",
      "Imputing row 1701/5000 with 0 missing, elapsed time: 5.904\n",
      "Imputing row 1801/5000 with 0 missing, elapsed time: 5.904\n",
      "Imputing row 1901/5000 with 0 missing, elapsed time: 5.904\n",
      "Imputing row 2001/5000 with 0 missing, elapsed time: 5.904\n",
      "Imputing row 2101/5000 with 0 missing, elapsed time: 5.904\n",
      "Imputing row 2201/5000 with 0 missing, elapsed time: 5.904\n",
      "Imputing row 2301/5000 with 0 missing, elapsed time: 5.904\n",
      "Imputing row 2401/5000 with 0 missing, elapsed time: 5.904\n",
      "Imputing row 2501/5000 with 0 missing, elapsed time: 5.904\n",
      "Imputing row 2601/5000 with 0 missing, elapsed time: 5.904\n",
      "Imputing row 2701/5000 with 1 missing, elapsed time: 5.904\n",
      "Imputing row 2801/5000 with 0 missing, elapsed time: 5.904\n",
      "Imputing row 2901/5000 with 0 missing, elapsed time: 5.904\n",
      "Imputing row 3001/5000 with 0 missing, elapsed time: 5.904\n",
      "Imputing row 3101/5000 with 0 missing, elapsed time: 5.920\n",
      "Imputing row 3201/5000 with 0 missing, elapsed time: 5.920\n",
      "Imputing row 3301/5000 with 0 missing, elapsed time: 5.920\n",
      "Imputing row 3401/5000 with 2 missing, elapsed time: 5.920\n",
      "Imputing row 3501/5000 with 0 missing, elapsed time: 5.920\n",
      "Imputing row 3601/5000 with 0 missing, elapsed time: 5.920\n",
      "Imputing row 3701/5000 with 0 missing, elapsed time: 5.920\n",
      "Imputing row 3801/5000 with 1 missing, elapsed time: 5.920\n",
      "Imputing row 3901/5000 with 0 missing, elapsed time: 5.920\n",
      "Imputing row 4001/5000 with 0 missing, elapsed time: 5.920\n",
      "Imputing row 4101/5000 with 0 missing, elapsed time: 5.920\n",
      "Imputing row 4201/5000 with 0 missing, elapsed time: 5.920\n",
      "Imputing row 4301/5000 with 0 missing, elapsed time: 5.920\n",
      "Imputing row 4401/5000 with 0 missing, elapsed time: 5.920\n",
      "Imputing row 4501/5000 with 0 missing, elapsed time: 5.920\n",
      "Imputing row 4601/5000 with 0 missing, elapsed time: 5.936\n",
      "Imputing row 4701/5000 with 0 missing, elapsed time: 5.937\n",
      "Imputing row 4801/5000 with 0 missing, elapsed time: 5.938\n",
      "Imputing row 4901/5000 with 0 missing, elapsed time: 5.940\n"
     ]
    }
   ],
   "source": [
    "#We are imputing the NA values with KNN imputaion\n",
    "whole_data= pd.DataFrame(KNN(k=9).fit_transform(whole_data),columns=whole_data.columns)"
   ]
  },
  {
   "cell_type": "code",
   "execution_count": 30,
   "metadata": {},
   "outputs": [
    {
     "name": "stdout",
     "output_type": "stream",
     "text": [
      "                        Variables  Outlier Percentage\n",
      "0                           state                 0.0\n",
      "1                 total eve calls                 0.0\n",
      "2   number customer service calls                 0.0\n",
      "3               total intl charge                 0.0\n",
      "4                total intl calls                 0.0\n",
      "5              total intl minutes                 0.0\n",
      "6              total night charge                 0.0\n",
      "7               total night calls                 0.0\n",
      "8             total night minutes                 0.0\n",
      "9                total eve charge                 0.0\n",
      "10              total eve minutes                 0.0\n",
      "11                 account length                 0.0\n",
      "12               total day charge                 0.0\n",
      "13                total day calls                 0.0\n",
      "14              total day minutes                 0.0\n",
      "15          number vmail messages                 0.0\n",
      "16                voice mail plan                 0.0\n",
      "17             international plan                 0.0\n",
      "18                   phone number                 0.0\n",
      "19                      area code                 0.0\n",
      "20                          Churn                 0.0\n"
     ]
    }
   ],
   "source": [
    "#Check for the presence of any Ouliers/nan's \n",
    "outlier_percentage()"
   ]
  },
  {
   "cell_type": "code",
   "execution_count": 31,
   "metadata": {},
   "outputs": [
    {
     "data": {
      "text/plain": [
       "state                             object\n",
       "account length                   float64\n",
       "area code                         object\n",
       "phone number                      object\n",
       "international plan                object\n",
       "voice mail plan                   object\n",
       "number vmail messages            float64\n",
       "total day minutes                float64\n",
       "total day calls                  float64\n",
       "total day charge                 float64\n",
       "total eve minutes                float64\n",
       "total eve calls                  float64\n",
       "total eve charge                 float64\n",
       "total night minutes              float64\n",
       "total night calls                float64\n",
       "total night charge               float64\n",
       "total intl minutes               float64\n",
       "total intl calls                 float64\n",
       "total intl charge                float64\n",
       "number customer service calls     object\n",
       "Churn                             object\n",
       "dtype: object"
      ]
     },
     "execution_count": 31,
     "metadata": {},
     "output_type": "execute_result"
    }
   ],
   "source": [
    "#After KNN imputation all the variables will be in 'float' datatype, hence I'm converting all the object datatypes as it were before.\n",
    "for i in cat_names:\n",
    "    whole_data.loc[:,i]=whole_data.loc[:,i].astype('object')\n",
    "    \n",
    "whole_data.dtypes"
   ]
  },
  {
   "cell_type": "markdown",
   "metadata": {},
   "source": [
    "# Feature Selection"
   ]
  },
  {
   "cell_type": "code",
   "execution_count": 2,
   "metadata": {},
   "outputs": [
    {
     "ename": "NameError",
     "evalue": "name 'whole_data' is not defined",
     "output_type": "error",
     "traceback": [
      "\u001b[1;31m---------------------------------------------------------------------------\u001b[0m",
      "\u001b[1;31mNameError\u001b[0m                                 Traceback (most recent call last)",
      "\u001b[1;32m<ipython-input-2-26a84ad21133>\u001b[0m in \u001b[0;36m<module>\u001b[1;34m\u001b[0m\n\u001b[0;32m      1\u001b[0m \u001b[1;31m# Correlation Analysis\u001b[0m\u001b[1;33m\u001b[0m\u001b[1;33m\u001b[0m\u001b[0m\n\u001b[0;32m      2\u001b[0m \u001b[1;31m#Extract numeric variables dataset for correlation analysis\u001b[0m\u001b[1;33m\u001b[0m\u001b[1;33m\u001b[0m\u001b[0m\n\u001b[1;32m----> 3\u001b[1;33m \u001b[0mnumeric_data\u001b[0m\u001b[1;33m=\u001b[0m \u001b[0mwhole_data\u001b[0m\u001b[1;33m.\u001b[0m\u001b[0mloc\u001b[0m\u001b[1;33m[\u001b[0m\u001b[1;33m:\u001b[0m\u001b[1;33m,\u001b[0m\u001b[0mcnames\u001b[0m\u001b[1;33m]\u001b[0m\u001b[1;33m\u001b[0m\u001b[0m\n\u001b[0m\u001b[0;32m      4\u001b[0m \u001b[1;31m#Set the width and hieght of the plot\u001b[0m\u001b[1;33m\u001b[0m\u001b[1;33m\u001b[0m\u001b[0m\n\u001b[0;32m      5\u001b[0m \u001b[0mf\u001b[0m\u001b[1;33m,\u001b[0m \u001b[0max\u001b[0m \u001b[1;33m=\u001b[0m \u001b[0mplt\u001b[0m\u001b[1;33m.\u001b[0m\u001b[0msubplots\u001b[0m\u001b[1;33m(\u001b[0m\u001b[0mfigsize\u001b[0m\u001b[1;33m=\u001b[0m\u001b[1;33m(\u001b[0m\u001b[1;36m7\u001b[0m\u001b[1;33m,\u001b[0m \u001b[1;36m5\u001b[0m\u001b[1;33m)\u001b[0m\u001b[1;33m)\u001b[0m\u001b[1;33m\u001b[0m\u001b[0m\n",
      "\u001b[1;31mNameError\u001b[0m: name 'whole_data' is not defined"
     ]
    }
   ],
   "source": [
    "# Correlation Analysis\n",
    "#Extract numeric variables dataset for correlation analysis\n",
    "numeric_data= whole_data.loc[:,cnames]\n",
    "#Set the width and hieght of the plot\n",
    "f, ax = plt.subplots(figsize=(7, 5))\n",
    "#Generate correlation matrix\n",
    "corr = numeric_data.corr()\n",
    "#Plot using seaborn library\n",
    "plt.title('Pearson Correlation Plot')\n",
    "sns.heatmap(corr, mask=np.zeros_like(corr, dtype=np.bool), cmap=sns.diverging_palette(220, 10, as_cmap=True),\n",
    "            square=True, ax=ax)"
   ]
  },
  {
   "cell_type": "markdown",
   "metadata": {},
   "source": [
    "# From the above correlation plot, we remove total day charge,total eve charge,total night charge,total intl charge variables as they are inducing multicollinearity"
   ]
  },
  {
   "cell_type": "code",
   "execution_count": 33,
   "metadata": {},
   "outputs": [
    {
     "name": "stdout",
     "output_type": "stream",
     "text": [
      "['state', 'area code', 'phone number', 'international plan', 'voice mail plan', 'number customer service calls']\n"
     ]
    }
   ],
   "source": [
    "#Chisquare test of independence\n",
    "#removing the last target variable 'Churn' from the cat_names list\n",
    "cat_names= cat_names[:-1]\n",
    "print(cat_names)"
   ]
  },
  {
   "cell_type": "code",
   "execution_count": 34,
   "metadata": {},
   "outputs": [
    {
     "name": "stdout",
     "output_type": "stream",
     "text": [
      "state\n",
      "7.850836224371827e-05\n",
      "area code\n",
      "0.7546581385329686\n",
      "phone number\n",
      "0.493350889587423\n",
      "international plan\n",
      "1.9443947474998577e-74\n",
      "voice mail plan\n",
      "7.164501780988496e-15\n",
      "number customer service calls\n",
      "8.739411670781015e-103\n"
     ]
    }
   ],
   "source": [
    "#loop for chi square test to generate p values for all the categorical varaibles\n",
    "for i in cat_names:\n",
    "    print(i)\n",
    "    chi2, p, dof, ex = chi2_contingency(pd.crosstab(whole_data['Churn'], whole_data[i]))\n",
    "    print(p)"
   ]
  },
  {
   "cell_type": "markdown",
   "metadata": {},
   "source": [
    "# From the above generated p values, we are removing area code and phone number variables as they don't hold any significance to explain the target variable"
   ]
  },
  {
   "cell_type": "code",
   "execution_count": 35,
   "metadata": {},
   "outputs": [
    {
     "name": "stdout",
     "output_type": "stream",
     "text": [
      "The new shape of whole_data is : (5000, 15)\n"
     ]
    }
   ],
   "source": [
    "#Removing the above mentioned variables which are of no use\n",
    "whole_data = whole_data.drop(['total day charge', 'total eve charge', 'total night charge', 'total intl charge', 'area code','phone number'], axis=1)\n",
    "print('The new shape of whole_data is :',whole_data.shape)"
   ]
  },
  {
   "cell_type": "markdown",
   "metadata": {},
   "source": [
    "# Feature Scaling"
   ]
  },
  {
   "cell_type": "code",
   "execution_count": 36,
   "metadata": {},
   "outputs": [
    {
     "name": "stdout",
     "output_type": "stream",
     "text": [
      "account length\n",
      "number vmail messages\n",
      "total day minutes\n",
      "total day calls\n",
      "total eve minutes\n",
      "total eve calls\n",
      "total night minutes\n",
      "total night calls\n",
      "total intl minutes\n",
      "total intl calls\n"
     ]
    }
   ],
   "source": [
    "#Updating the new cnames and cat_name list as we dropped them in the feature selection stage\n",
    "cat_names=['state','international plan','voice mail plan','number customer service calls','Churn']\n",
    "cnames=['account length','number vmail messages','total day minutes','total day calls','total eve minutes','total eve calls','total night minutes','total night calls','total intl minutes','total intl calls']\n",
    "\n",
    "#Normalization\n",
    "for i in cnames:\n",
    "    print(i)\n",
    "    whole_data[i] = (whole_data[i] - min(whole_data[i]))/(max(whole_data[i]) - min(whole_data[i]))"
   ]
  },
  {
   "cell_type": "code",
   "execution_count": 37,
   "metadata": {},
   "outputs": [
    {
     "data": {
      "text/html": [
       "<div>\n",
       "<style scoped>\n",
       "    .dataframe tbody tr th:only-of-type {\n",
       "        vertical-align: middle;\n",
       "    }\n",
       "\n",
       "    .dataframe tbody tr th {\n",
       "        vertical-align: top;\n",
       "    }\n",
       "\n",
       "    .dataframe thead th {\n",
       "        text-align: right;\n",
       "    }\n",
       "</style>\n",
       "<table border=\"1\" class=\"dataframe\">\n",
       "  <thead>\n",
       "    <tr style=\"text-align: right;\">\n",
       "      <th></th>\n",
       "      <th>account length</th>\n",
       "      <th>number vmail messages</th>\n",
       "      <th>total day minutes</th>\n",
       "      <th>total day calls</th>\n",
       "      <th>total eve minutes</th>\n",
       "      <th>total eve calls</th>\n",
       "      <th>total night minutes</th>\n",
       "      <th>total night calls</th>\n",
       "      <th>total intl minutes</th>\n",
       "      <th>total intl calls</th>\n",
       "    </tr>\n",
       "  </thead>\n",
       "  <tbody>\n",
       "    <tr>\n",
       "      <th>count</th>\n",
       "      <td>5000.000000</td>\n",
       "      <td>5000.000000</td>\n",
       "      <td>5000.000000</td>\n",
       "      <td>5000.000000</td>\n",
       "      <td>5000.000000</td>\n",
       "      <td>5000.000000</td>\n",
       "      <td>5000.000000</td>\n",
       "      <td>5000.000000</td>\n",
       "      <td>5000.000000</td>\n",
       "      <td>5000.000000</td>\n",
       "    </tr>\n",
       "    <tr>\n",
       "      <th>mean</th>\n",
       "      <td>0.476726</td>\n",
       "      <td>0.173887</td>\n",
       "      <td>0.501432</td>\n",
       "      <td>0.501820</td>\n",
       "      <td>0.502200</td>\n",
       "      <td>0.497543</td>\n",
       "      <td>0.498316</td>\n",
       "      <td>0.498494</td>\n",
       "      <td>0.503441</td>\n",
       "      <td>0.423072</td>\n",
       "    </tr>\n",
       "    <tr>\n",
       "      <th>std</th>\n",
       "      <td>0.187479</td>\n",
       "      <td>0.307211</td>\n",
       "      <td>0.180555</td>\n",
       "      <td>0.184214</td>\n",
       "      <td>0.180159</td>\n",
       "      <td>0.180405</td>\n",
       "      <td>0.179936</td>\n",
       "      <td>0.184106</td>\n",
       "      <td>0.183491</td>\n",
       "      <td>0.205789</td>\n",
       "    </tr>\n",
       "    <tr>\n",
       "      <th>min</th>\n",
       "      <td>0.000000</td>\n",
       "      <td>0.000000</td>\n",
       "      <td>0.000000</td>\n",
       "      <td>0.000000</td>\n",
       "      <td>0.000000</td>\n",
       "      <td>0.000000</td>\n",
       "      <td>0.000000</td>\n",
       "      <td>0.000000</td>\n",
       "      <td>0.000000</td>\n",
       "      <td>0.000000</td>\n",
       "    </tr>\n",
       "    <tr>\n",
       "      <th>25%</th>\n",
       "      <td>0.347826</td>\n",
       "      <td>0.000000</td>\n",
       "      <td>0.376381</td>\n",
       "      <td>0.375000</td>\n",
       "      <td>0.377595</td>\n",
       "      <td>0.373832</td>\n",
       "      <td>0.376479</td>\n",
       "      <td>0.375000</td>\n",
       "      <td>0.381295</td>\n",
       "      <td>0.300000</td>\n",
       "    </tr>\n",
       "    <tr>\n",
       "      <th>50%</th>\n",
       "      <td>0.478261</td>\n",
       "      <td>0.000000</td>\n",
       "      <td>0.500691</td>\n",
       "      <td>0.500000</td>\n",
       "      <td>0.503336</td>\n",
       "      <td>0.495327</td>\n",
       "      <td>0.498151</td>\n",
       "      <td>0.500000</td>\n",
       "      <td>0.510791</td>\n",
       "      <td>0.400000</td>\n",
       "    </tr>\n",
       "    <tr>\n",
       "      <th>75%</th>\n",
       "      <td>0.603865</td>\n",
       "      <td>0.309524</td>\n",
       "      <td>0.624309</td>\n",
       "      <td>0.625000</td>\n",
       "      <td>0.624166</td>\n",
       "      <td>0.616822</td>\n",
       "      <td>0.621302</td>\n",
       "      <td>0.625000</td>\n",
       "      <td>0.625899</td>\n",
       "      <td>0.500000</td>\n",
       "    </tr>\n",
       "    <tr>\n",
       "      <th>max</th>\n",
       "      <td>1.000000</td>\n",
       "      <td>1.000000</td>\n",
       "      <td>1.000000</td>\n",
       "      <td>1.000000</td>\n",
       "      <td>1.000000</td>\n",
       "      <td>1.000000</td>\n",
       "      <td>1.000000</td>\n",
       "      <td>1.000000</td>\n",
       "      <td>1.000000</td>\n",
       "      <td>1.000000</td>\n",
       "    </tr>\n",
       "  </tbody>\n",
       "</table>\n",
       "</div>"
      ],
      "text/plain": [
       "       account length  number vmail messages  total day minutes  \\\n",
       "count     5000.000000            5000.000000        5000.000000   \n",
       "mean         0.476726               0.173887           0.501432   \n",
       "std          0.187479               0.307211           0.180555   \n",
       "min          0.000000               0.000000           0.000000   \n",
       "25%          0.347826               0.000000           0.376381   \n",
       "50%          0.478261               0.000000           0.500691   \n",
       "75%          0.603865               0.309524           0.624309   \n",
       "max          1.000000               1.000000           1.000000   \n",
       "\n",
       "       total day calls  total eve minutes  total eve calls  \\\n",
       "count      5000.000000        5000.000000      5000.000000   \n",
       "mean          0.501820           0.502200         0.497543   \n",
       "std           0.184214           0.180159         0.180405   \n",
       "min           0.000000           0.000000         0.000000   \n",
       "25%           0.375000           0.377595         0.373832   \n",
       "50%           0.500000           0.503336         0.495327   \n",
       "75%           0.625000           0.624166         0.616822   \n",
       "max           1.000000           1.000000         1.000000   \n",
       "\n",
       "       total night minutes  total night calls  total intl minutes  \\\n",
       "count          5000.000000        5000.000000         5000.000000   \n",
       "mean              0.498316           0.498494            0.503441   \n",
       "std               0.179936           0.184106            0.183491   \n",
       "min               0.000000           0.000000            0.000000   \n",
       "25%               0.376479           0.375000            0.381295   \n",
       "50%               0.498151           0.500000            0.510791   \n",
       "75%               0.621302           0.625000            0.625899   \n",
       "max               1.000000           1.000000            1.000000   \n",
       "\n",
       "       total intl calls  \n",
       "count       5000.000000  \n",
       "mean           0.423072  \n",
       "std            0.205789  \n",
       "min            0.000000  \n",
       "25%            0.300000  \n",
       "50%            0.400000  \n",
       "75%            0.500000  \n",
       "max            1.000000  "
      ]
     },
     "execution_count": 37,
     "metadata": {},
     "output_type": "execute_result"
    }
   ],
   "source": [
    "#To visualize the max and min data to verify the normalization\n",
    "whole_data.describe()"
   ]
  },
  {
   "cell_type": "markdown",
   "metadata": {},
   "source": [
    "# SMOTE Sampling"
   ]
  },
  {
   "cell_type": "code",
   "execution_count": 38,
   "metadata": {},
   "outputs": [
    {
     "name": "stdout",
     "output_type": "stream",
     "text": [
      "The shape of train_data is (3333, 15)\n",
      "The shape of test data is (1667, 15)\n"
     ]
    }
   ],
   "source": [
    "#Splitting the train and test data from the whole data\n",
    "train_data = whole_data.iloc[0:3333,]\n",
    "test_data = whole_data.iloc[3333:,].reset_index(drop=True)\n",
    "print(\"The shape of train_data is\",train_data.shape)\n",
    "print(\"The shape of test data is\",test_data.shape)"
   ]
  },
  {
   "cell_type": "code",
   "execution_count": 39,
   "metadata": {},
   "outputs": [
    {
     "data": {
      "text/plain": [
       "0.0    2850\n",
       "1.0     483\n",
       "Name: Churn, dtype: int64"
      ]
     },
     "execution_count": 39,
     "metadata": {},
     "output_type": "execute_result"
    }
   ],
   "source": [
    "# Visualize the number of imbalance classes in Churn\n",
    "train_data['Churn'].value_counts()"
   ]
  },
  {
   "cell_type": "code",
   "execution_count": 40,
   "metadata": {},
   "outputs": [
    {
     "name": "stderr",
     "output_type": "stream",
     "text": [
      "C:\\Users\\Navaneeth\\Anaconda3\\lib\\site-packages\\imblearn\\utils\\_validation.py:93: UserWarning: 'y' should be of types ('binary', 'multiclass', 'multilabel-indicator') only. Got unknown instead.\n",
      "  TARGET_KIND, type_of_target(y)))\n"
     ]
    }
   ],
   "source": [
    "# Import the SMOTE library and initialize \n",
    "from imblearn.over_sampling import SMOTE\n",
    "smote=SMOTE(ratio='minority',random_state=123)\n",
    "#Split the predictor & target variables\n",
    "X_train=train_data.drop('Churn',1)\n",
    "Y_train=train_data['Churn']\n",
    "#Sample using SMOTE\n",
    "X_smote, Y_smote = smote.fit_sample(X_train, Y_train)"
   ]
  },
  {
   "cell_type": "code",
   "execution_count": 41,
   "metadata": {},
   "outputs": [
    {
     "name": "stdout",
     "output_type": "stream",
     "text": [
      "After SMOTE sampling the number of obs of value 1 are : 2850\n",
      "After SMOTE sampling the number of obs of value 0 are : 2850\n"
     ]
    }
   ],
   "source": [
    "#Convert the sampled data to dataframe\n",
    "X_smote = pd.DataFrame(X_smote, columns = ['state', 'account length', 'international plan','voice mail plan','number vmail messages','total day minutes','total day calls','total eve minutes',\n",
    "'total eve calls','total night minutes','total night calls','total intl minutes','total intl calls','number customer service calls'])\n",
    "\n",
    "Y_smote=pd.DataFrame(Y_smote,columns=['Churn'])\n",
    "\n",
    "print(\"After SMOTE sampling the number of obs of value 1 are :\",Y_smote.loc[Y_smote.Churn == 1].shape[0])\n",
    "print(\"After SMOTE sampling the number of obs of value 0 are :\",Y_smote.loc[Y_smote.Churn == 0].shape[0])"
   ]
  },
  {
   "cell_type": "code",
   "execution_count": 42,
   "metadata": {},
   "outputs": [
    {
     "data": {
      "text/plain": [
       "(5700, 15)"
      ]
     },
     "execution_count": 42,
     "metadata": {},
     "output_type": "execute_result"
    }
   ],
   "source": [
    "#Combine the sampled predictor variables with the target variable\n",
    "sampled_train=pd.concat([X_smote, Y_smote], axis = 1)\n",
    "sampled_train.shape"
   ]
  },
  {
   "cell_type": "markdown",
   "metadata": {},
   "source": [
    "# Decision Tree Modelling"
   ]
  },
  {
   "cell_type": "code",
   "execution_count": 43,
   "metadata": {},
   "outputs": [],
   "source": [
    "#Changing 0 to false & 1 to True as decision tree expects the target class to be in categorical\n",
    "Y_smote['Churn']=Y_smote['Churn'].replace(0, 'False')\n",
    "Y_smote['Churn']=Y_smote['Churn'].replace(1, 'True')\n",
    "\n",
    "# Separating test predictor & target variables\n",
    "test_values=test_data.iloc[:,0:14]\n",
    "test_label=test_data['Churn']\n",
    "test_label=test_label.replace(0,'False')\n",
    "test_label=test_label.replace(1,'True')\n"
   ]
  },
  {
   "cell_type": "code",
   "execution_count": 77,
   "metadata": {},
   "outputs": [],
   "source": [
    "#import & load the decision tree\n",
    "from sklearn import tree\n",
    "C50_model = tree.DecisionTreeClassifier(criterion='entropy',max_depth =20,random_state = 123).fit(X_smote,Y_smote)"
   ]
  },
  {
   "cell_type": "code",
   "execution_count": 78,
   "metadata": {},
   "outputs": [],
   "source": [
    "#predict new test cases\n",
    "C50_Predictions = C50_model.predict(test_values)"
   ]
  },
  {
   "cell_type": "code",
   "execution_count": 46,
   "metadata": {},
   "outputs": [],
   "source": [
    "#Function to build Classification matrix & return the required metrics\n",
    "def classmatrix(act_label,predicted) :\n",
    "    CM = pd.crosstab(act_label, predicted,rownames=['Actual'],colnames=['Predicted'])\n",
    "    TN = CM.iloc[0,0]\n",
    "    FN = CM.iloc[1,0]\n",
    "    TP = CM.iloc[1,1]\n",
    "    FP = CM.iloc[0,1]\n",
    "    Accuracy=(((TP+TN)*100)/(TP+TN+FP+FN))\n",
    "    FNR= (FN*100)/(FN+TP)\n",
    "    Recall= ((TP/(TP+FN))*100)\n",
    "    Precision = ((TP/(TP+FP))*100)\n",
    "    return(Accuracy,FNR,Recall,Precision)"
   ]
  },
  {
   "cell_type": "code",
   "execution_count": 79,
   "metadata": {},
   "outputs": [
    {
     "name": "stdout",
     "output_type": "stream",
     "text": [
      "Decision Tree Accuracy %: 85.663\n",
      "Decision Tree FNR %: 25.446\n",
      "Decision Tree Recall %: 74.554\n",
      "Decision Tree Precision %: 47.851\n"
     ]
    },
    {
     "data": {
      "text/html": [
       "<div>\n",
       "<style scoped>\n",
       "    .dataframe tbody tr th:only-of-type {\n",
       "        vertical-align: middle;\n",
       "    }\n",
       "\n",
       "    .dataframe tbody tr th {\n",
       "        vertical-align: top;\n",
       "    }\n",
       "\n",
       "    .dataframe thead th {\n",
       "        text-align: right;\n",
       "    }\n",
       "</style>\n",
       "<table border=\"1\" class=\"dataframe\">\n",
       "  <thead>\n",
       "    <tr style=\"text-align: right;\">\n",
       "      <th>Predicted</th>\n",
       "      <th>False</th>\n",
       "      <th>True</th>\n",
       "    </tr>\n",
       "    <tr>\n",
       "      <th>Actual</th>\n",
       "      <th></th>\n",
       "      <th></th>\n",
       "    </tr>\n",
       "  </thead>\n",
       "  <tbody>\n",
       "    <tr>\n",
       "      <th>False</th>\n",
       "      <td>1261</td>\n",
       "      <td>182</td>\n",
       "    </tr>\n",
       "    <tr>\n",
       "      <th>True</th>\n",
       "      <td>57</td>\n",
       "      <td>167</td>\n",
       "    </tr>\n",
       "  </tbody>\n",
       "</table>\n",
       "</div>"
      ],
      "text/plain": [
       "Predicted  False  True\n",
       "Actual                \n",
       "False       1261   182\n",
       "True          57   167"
      ]
     },
     "execution_count": 79,
     "metadata": {},
     "output_type": "execute_result"
    }
   ],
   "source": [
    "#print the metrics for decision tree classifier\n",
    "Acc,fnr,recall,precision = classmatrix(test_label,C50_Predictions)\n",
    "print('Decision Tree Accuracy %: {:.3f}'.format(Acc))\n",
    "print('Decision Tree FNR %: {:.3f}'.format(fnr))\n",
    "print('Decision Tree Recall %: {:.3f}'.format(recall))\n",
    "print('Decision Tree Precision %: {:.3f}'.format(precision))\n",
    "pd.crosstab(test_label, C50_Predictions,rownames=['Actual'],colnames=['Predicted'])"
   ]
  },
  {
   "cell_type": "code",
   "execution_count": 80,
   "metadata": {},
   "outputs": [
    {
     "data": {
      "text/plain": [
       "['DecisionTree_Python_Final.sav']"
      ]
     },
     "execution_count": 80,
     "metadata": {},
     "output_type": "execute_result"
    }
   ],
   "source": [
    "#Save the decision tree model for future use\n",
    "from sklearn.externals import joblib\n",
    "joblib.dump(C50_model, \"DecisionTree_Python_Final.sav\")"
   ]
  },
  {
   "cell_type": "markdown",
   "metadata": {},
   "source": [
    "# Random Forest Classifier"
   ]
  },
  {
   "cell_type": "code",
   "execution_count": 115,
   "metadata": {},
   "outputs": [],
   "source": [
    "# Laod the random forest library and build the model\n",
    "from sklearn.ensemble import RandomForestClassifier\n",
    "RF_model = RandomForestClassifier(n_estimators = 80,random_state = 123).fit(X_smote,Y_smote.values.ravel())"
   ]
  },
  {
   "cell_type": "code",
   "execution_count": 116,
   "metadata": {},
   "outputs": [],
   "source": [
    "#make predictions\n",
    "RF_Predictions = RF_model.predict(test_values)"
   ]
  },
  {
   "cell_type": "code",
   "execution_count": 117,
   "metadata": {},
   "outputs": [
    {
     "name": "stdout",
     "output_type": "stream",
     "text": [
      "Random Forest Accuracy %: 92.861\n",
      "Random Forest FNR %: 22.321\n",
      "Random Forest Recall %: 77.679\n",
      "Random Forest Precision %: 71.605\n"
     ]
    },
    {
     "data": {
      "text/html": [
       "<div>\n",
       "<style scoped>\n",
       "    .dataframe tbody tr th:only-of-type {\n",
       "        vertical-align: middle;\n",
       "    }\n",
       "\n",
       "    .dataframe tbody tr th {\n",
       "        vertical-align: top;\n",
       "    }\n",
       "\n",
       "    .dataframe thead th {\n",
       "        text-align: right;\n",
       "    }\n",
       "</style>\n",
       "<table border=\"1\" class=\"dataframe\">\n",
       "  <thead>\n",
       "    <tr style=\"text-align: right;\">\n",
       "      <th>Predicted</th>\n",
       "      <th>False</th>\n",
       "      <th>True</th>\n",
       "    </tr>\n",
       "    <tr>\n",
       "      <th>Actual</th>\n",
       "      <th></th>\n",
       "      <th></th>\n",
       "    </tr>\n",
       "  </thead>\n",
       "  <tbody>\n",
       "    <tr>\n",
       "      <th>False</th>\n",
       "      <td>1261</td>\n",
       "      <td>182</td>\n",
       "    </tr>\n",
       "    <tr>\n",
       "      <th>True</th>\n",
       "      <td>57</td>\n",
       "      <td>167</td>\n",
       "    </tr>\n",
       "  </tbody>\n",
       "</table>\n",
       "</div>"
      ],
      "text/plain": [
       "Predicted  False  True\n",
       "Actual                \n",
       "False       1261   182\n",
       "True          57   167"
      ]
     },
     "execution_count": 117,
     "metadata": {},
     "output_type": "execute_result"
    }
   ],
   "source": [
    "#print the metrics for Random Forest classifier\n",
    "Acc,fnr,recall,precision = classmatrix(test_label,RF_Predictions)\n",
    "print('Random Forest Accuracy %: {:.3f}'.format(Acc))\n",
    "print('Random Forest FNR %: {:.3f}'.format(fnr))\n",
    "print('Random Forest Recall %: {:.3f}'.format(recall))\n",
    "print('Random Forest Precision %: {:.3f}'.format(precision))\n",
    "pd.crosstab(test_label, C50_Predictions,rownames=['Actual'],colnames=['Predicted'])"
   ]
  },
  {
   "cell_type": "code",
   "execution_count": 118,
   "metadata": {},
   "outputs": [
    {
     "data": {
      "text/plain": [
       "['RF_model_Python_Final.sav']"
      ]
     },
     "execution_count": 118,
     "metadata": {},
     "output_type": "execute_result"
    }
   ],
   "source": [
    "#Save the Random Forest model for future use\n",
    "joblib.dump(RF_model, \"RF_model_Python_Final.sav\")"
   ]
  },
  {
   "cell_type": "markdown",
   "metadata": {},
   "source": [
    "# KNN Algorithm"
   ]
  },
  {
   "cell_type": "code",
   "execution_count": 136,
   "metadata": {},
   "outputs": [],
   "source": [
    "#KNN implementation\n",
    "from sklearn.neighbors import KNeighborsClassifier\n",
    "\n",
    "KNN_model = KNeighborsClassifier(n_neighbors = 3).fit(X_smote,Y_smote.values.ravel())"
   ]
  },
  {
   "cell_type": "code",
   "execution_count": 137,
   "metadata": {},
   "outputs": [],
   "source": [
    "#predict test cases\n",
    "KNN_Predictions = KNN_model.predict(test_values)"
   ]
  },
  {
   "cell_type": "code",
   "execution_count": 138,
   "metadata": {},
   "outputs": [
    {
     "name": "stdout",
     "output_type": "stream",
     "text": [
      "KNN Accuracy %: 79.004\n",
      "KNN FNR %: 35.714\n",
      "KNN Recall %: 64.286\n",
      "KNN Precision %: 34.783\n"
     ]
    },
    {
     "data": {
      "text/html": [
       "<div>\n",
       "<style scoped>\n",
       "    .dataframe tbody tr th:only-of-type {\n",
       "        vertical-align: middle;\n",
       "    }\n",
       "\n",
       "    .dataframe tbody tr th {\n",
       "        vertical-align: top;\n",
       "    }\n",
       "\n",
       "    .dataframe thead th {\n",
       "        text-align: right;\n",
       "    }\n",
       "</style>\n",
       "<table border=\"1\" class=\"dataframe\">\n",
       "  <thead>\n",
       "    <tr style=\"text-align: right;\">\n",
       "      <th>Predicted</th>\n",
       "      <th>False</th>\n",
       "      <th>True</th>\n",
       "    </tr>\n",
       "    <tr>\n",
       "      <th>Actual</th>\n",
       "      <th></th>\n",
       "      <th></th>\n",
       "    </tr>\n",
       "  </thead>\n",
       "  <tbody>\n",
       "    <tr>\n",
       "      <th>False</th>\n",
       "      <td>1261</td>\n",
       "      <td>182</td>\n",
       "    </tr>\n",
       "    <tr>\n",
       "      <th>True</th>\n",
       "      <td>57</td>\n",
       "      <td>167</td>\n",
       "    </tr>\n",
       "  </tbody>\n",
       "</table>\n",
       "</div>"
      ],
      "text/plain": [
       "Predicted  False  True\n",
       "Actual                \n",
       "False       1261   182\n",
       "True          57   167"
      ]
     },
     "execution_count": 138,
     "metadata": {},
     "output_type": "execute_result"
    }
   ],
   "source": [
    "#print the metrics for KNN classifier\n",
    "Acc,fnr,recall,precision = classmatrix(test_label,KNN_Predictions)\n",
    "print('KNN Accuracy %: {:.3f}'.format(Acc))\n",
    "print('KNN FNR %: {:.3f}'.format(fnr))\n",
    "print('KNN Recall %: {:.3f}'.format(recall))\n",
    "print('KNN Precision %: {:.3f}'.format(precision))\n",
    "pd.crosstab(test_label, C50_Predictions,rownames=['Actual'],colnames=['Predicted'])"
   ]
  },
  {
   "cell_type": "code",
   "execution_count": 139,
   "metadata": {},
   "outputs": [
    {
     "data": {
      "text/plain": [
       "['KNN_model_Python_Final.sav']"
      ]
     },
     "execution_count": 139,
     "metadata": {},
     "output_type": "execute_result"
    }
   ],
   "source": [
    "#Save the KNN model for future use\n",
    "joblib.dump(KNN_model, \"KNN_model_Python_Final.sav\")"
   ]
  },
  {
   "cell_type": "markdown",
   "metadata": {},
   "source": [
    "# Naive Bayes Model"
   ]
  },
  {
   "cell_type": "code",
   "execution_count": 141,
   "metadata": {},
   "outputs": [],
   "source": [
    "#import the Naive Bayes library and laod the model\n",
    "from sklearn.naive_bayes import GaussianNB\n",
    "NB_model = GaussianNB().fit(X_smote,Y_smote.values.ravel())"
   ]
  },
  {
   "cell_type": "code",
   "execution_count": 142,
   "metadata": {},
   "outputs": [],
   "source": [
    "#predict test cases\n",
    "NB_Predictions = NB_model.predict(test_values)"
   ]
  },
  {
   "cell_type": "code",
   "execution_count": 143,
   "metadata": {},
   "outputs": [
    {
     "name": "stdout",
     "output_type": "stream",
     "text": [
      "Naive Bayes Accuracy %: 82.963\n",
      "Naive Bayes FNR %: 26.786\n",
      "Naive Bayes Recall %: 73.214\n",
      "Naive Bayes Precision %: 42.268\n"
     ]
    },
    {
     "data": {
      "text/html": [
       "<div>\n",
       "<style scoped>\n",
       "    .dataframe tbody tr th:only-of-type {\n",
       "        vertical-align: middle;\n",
       "    }\n",
       "\n",
       "    .dataframe tbody tr th {\n",
       "        vertical-align: top;\n",
       "    }\n",
       "\n",
       "    .dataframe thead th {\n",
       "        text-align: right;\n",
       "    }\n",
       "</style>\n",
       "<table border=\"1\" class=\"dataframe\">\n",
       "  <thead>\n",
       "    <tr style=\"text-align: right;\">\n",
       "      <th>Predicted</th>\n",
       "      <th>False</th>\n",
       "      <th>True</th>\n",
       "    </tr>\n",
       "    <tr>\n",
       "      <th>Actual</th>\n",
       "      <th></th>\n",
       "      <th></th>\n",
       "    </tr>\n",
       "  </thead>\n",
       "  <tbody>\n",
       "    <tr>\n",
       "      <th>False</th>\n",
       "      <td>1261</td>\n",
       "      <td>182</td>\n",
       "    </tr>\n",
       "    <tr>\n",
       "      <th>True</th>\n",
       "      <td>57</td>\n",
       "      <td>167</td>\n",
       "    </tr>\n",
       "  </tbody>\n",
       "</table>\n",
       "</div>"
      ],
      "text/plain": [
       "Predicted  False  True\n",
       "Actual                \n",
       "False       1261   182\n",
       "True          57   167"
      ]
     },
     "execution_count": 143,
     "metadata": {},
     "output_type": "execute_result"
    }
   ],
   "source": [
    "#print the metrics for Naive Bayes classifier\n",
    "Acc,fnr,recall,precision = classmatrix(test_label,NB_Predictions)\n",
    "print('Naive Bayes Accuracy %: {:.3f}'.format(Acc))\n",
    "print('Naive Bayes FNR %: {:.3f}'.format(fnr))\n",
    "print('Naive Bayes Recall %: {:.3f}'.format(recall))\n",
    "print('Naive Bayes Precision %: {:.3f}'.format(precision))\n",
    "pd.crosstab(test_label, C50_Predictions,rownames=['Actual'],colnames=['Predicted'])"
   ]
  },
  {
   "cell_type": "code",
   "execution_count": 144,
   "metadata": {},
   "outputs": [
    {
     "data": {
      "text/plain": [
       "['NB_model_Python_Final.sav']"
      ]
     },
     "execution_count": 144,
     "metadata": {},
     "output_type": "execute_result"
    }
   ],
   "source": [
    "#Save the Naive Bayes model for future use\n",
    "joblib.dump(NB_model, \"NB_model_Python_Final.sav\")"
   ]
  },
  {
   "cell_type": "markdown",
   "metadata": {},
   "source": [
    "# Logistic Regression"
   ]
  },
  {
   "cell_type": "code",
   "execution_count": 1,
   "metadata": {},
   "outputs": [],
   "source": [
    "#Note : For Logistic Regression,the above approach followed doesnot suit, so I'm rebuilding the required variables from scratch and \n",
    "#building the Logistic Regression Model.\n",
    "\n",
    "#Approach :\n",
    "#   1.) Build a new separate dataset which contains the numeric variables(considering the variables post correlation) & categorical variables(post Chi-square test).\n",
    "#   2.) Replace the Outliers with NAs and impute the same with KNN imputation as performed above.\n",
    "#   3.) Perform Normalization on numerical variables.\n",
    "#   4.) Replace the categorical variables with corresponding dummy values and join with the numerical dataset.\n",
    "#   5.) Divide the whole data into train and test, later SMOTE sampling is performed on the test dataset as its imbalanced.\n",
    "#   6.) Building the Logistic Regression Model\n",
    "#   7.) Predict the test cases.\n",
    "#   8.) Calculate the necessary metrics.\n"
   ]
  },
  {
   "cell_type": "code",
   "execution_count": 4,
   "metadata": {},
   "outputs": [],
   "source": [
    "#Loading the data post feature selection(as we have already analyzed them in the above section)\n",
    "whole_data_logit = whole_data.drop(['total day charge', 'total eve charge', 'total night charge', 'total intl charge', 'area code','phone number'], axis=1)"
   ]
  },
  {
   "cell_type": "code",
   "execution_count": 5,
   "metadata": {},
   "outputs": [],
   "source": [
    "new_cnames=['total intl calls','total intl minutes','number vmail messages','total eve minutes','total night calls','total night minutes','total day calls','total day minutes','total eve calls','account length']\n",
    "\n",
    "numeric_data=whole_data_logit[['total intl calls','total intl minutes','number vmail messages','total eve minutes','total night calls','total night minutes','total day calls','total day minutes','total eve calls','account length']]\n",
    "categorical_data=whole_data_logit[['state','international plan','voice mail plan','number customer service calls','Churn']]"
   ]
  },
  {
   "cell_type": "code",
   "execution_count": 6,
   "metadata": {},
   "outputs": [
    {
     "name": "stdout",
     "output_type": "stream",
     "text": [
      "total intl calls\n",
      "Minimum value is -1.5\n",
      "Maximum value is 10.5\n"
     ]
    },
    {
     "name": "stderr",
     "output_type": "stream",
     "text": [
      "C:\\Users\\Navaneeth\\Anaconda3\\lib\\site-packages\\ipykernel_launcher.py:12: SettingWithCopyWarning: \n",
      "A value is trying to be set on a copy of a slice from a DataFrame\n",
      "\n",
      "See the caveats in the documentation: http://pandas.pydata.org/pandas-docs/stable/indexing.html#indexing-view-versus-copy\n",
      "  if sys.path[0] == '':\n",
      "C:\\Users\\Navaneeth\\Anaconda3\\lib\\site-packages\\pandas\\core\\generic.py:7626: SettingWithCopyWarning: \n",
      "A value is trying to be set on a copy of a slice from a DataFrame\n",
      "\n",
      "See the caveats in the documentation: http://pandas.pydata.org/pandas-docs/stable/indexing.html#indexing-view-versus-copy\n",
      "  self._update_inplace(new_data)\n",
      "C:\\Users\\Navaneeth\\Anaconda3\\lib\\site-packages\\IPython\\core\\interactiveshell.py:3267: SettingWithCopyWarning: \n",
      "A value is trying to be set on a copy of a slice from a DataFrame\n",
      "\n",
      "See the caveats in the documentation: http://pandas.pydata.org/pandas-docs/stable/indexing.html#indexing-view-versus-copy\n",
      "  exec(code_obj, self.user_global_ns, self.user_ns)\n",
      "C:\\Users\\Navaneeth\\Anaconda3\\lib\\site-packages\\ipykernel_launcher.py:13: SettingWithCopyWarning: \n",
      "A value is trying to be set on a copy of a slice from a DataFrame\n",
      "\n",
      "See the caveats in the documentation: http://pandas.pydata.org/pandas-docs/stable/indexing.html#indexing-view-versus-copy\n",
      "  del sys.path[0]\n"
     ]
    },
    {
     "name": "stdout",
     "output_type": "stream",
     "text": [
      "total intl minutes\n",
      "Minimum value is 3.25\n",
      "Maximum value is 17.25\n",
      "number vmail messages\n",
      "Minimum value is -25.5\n",
      "Maximum value is 42.5\n",
      "total eve minutes\n",
      "Minimum value is 64.78750000000001\n",
      "Maximum value is 335.6875\n",
      "total night calls\n",
      "Minimum value is 48.0\n",
      "Maximum value is 152.0\n",
      "total night minutes\n",
      "Minimum value is 65.20000000000003\n",
      "Maximum value is 336.4\n",
      "total day calls\n",
      "Minimum value is 48.0\n",
      "Maximum value is 152.0\n",
      "total day minutes\n",
      "Minimum value is 34.94999999999999\n",
      "Maximum value is 324.95\n",
      "total eve calls\n",
      "Minimum value is 46.5\n",
      "Maximum value is 154.5\n",
      "account length\n",
      "Minimum value is -8.0\n",
      "Maximum value is 208.0\n"
     ]
    }
   ],
   "source": [
    "#Replace Outliers with NAs\n",
    "for i in new_cnames:\n",
    "    print(i)\n",
    "    q75,q25=np.percentile(numeric_data.loc[:,i],[75,25])\n",
    "    iqr= q75-q25\n",
    "    \n",
    "    minimum = q25-(1.5*iqr)\n",
    "    maximum = q75+(1.5*iqr)\n",
    "    print('Minimum value is',minimum)\n",
    "    print('Maximum value is',maximum)\n",
    "     \n",
    "    numeric_data.loc[:,i][numeric_data.loc[:,i] < minimum]= np.nan\n",
    "    numeric_data.loc[:,i][numeric_data.loc[:,i] > maximum]= np.nan"
   ]
  },
  {
   "cell_type": "code",
   "execution_count": 7,
   "metadata": {},
   "outputs": [
    {
     "name": "stdout",
     "output_type": "stream",
     "text": [
      "Imputing row 1/5000 with 0 missing, elapsed time: 7.681\n",
      "Imputing row 101/5000 with 0 missing, elapsed time: 7.681\n",
      "Imputing row 201/5000 with 0 missing, elapsed time: 7.681\n",
      "Imputing row 301/5000 with 0 missing, elapsed time: 7.681\n",
      "Imputing row 401/5000 with 0 missing, elapsed time: 7.681\n",
      "Imputing row 501/5000 with 0 missing, elapsed time: 7.681\n",
      "Imputing row 601/5000 with 0 missing, elapsed time: 7.698\n",
      "Imputing row 701/5000 with 0 missing, elapsed time: 7.699\n",
      "Imputing row 801/5000 with 0 missing, elapsed time: 7.700\n",
      "Imputing row 901/5000 with 0 missing, elapsed time: 7.700\n",
      "Imputing row 1001/5000 with 0 missing, elapsed time: 7.700\n",
      "Imputing row 1101/5000 with 0 missing, elapsed time: 7.700\n",
      "Imputing row 1201/5000 with 1 missing, elapsed time: 7.700\n",
      "Imputing row 1301/5000 with 0 missing, elapsed time: 7.700\n",
      "Imputing row 1401/5000 with 1 missing, elapsed time: 7.700\n",
      "Imputing row 1501/5000 with 0 missing, elapsed time: 7.700\n",
      "Imputing row 1601/5000 with 0 missing, elapsed time: 7.700\n",
      "Imputing row 1701/5000 with 0 missing, elapsed time: 7.717\n",
      "Imputing row 1801/5000 with 0 missing, elapsed time: 7.718\n",
      "Imputing row 1901/5000 with 0 missing, elapsed time: 7.718\n",
      "Imputing row 2001/5000 with 0 missing, elapsed time: 7.718\n",
      "Imputing row 2101/5000 with 0 missing, elapsed time: 7.718\n",
      "Imputing row 2201/5000 with 0 missing, elapsed time: 7.718\n",
      "Imputing row 2301/5000 with 0 missing, elapsed time: 7.718\n",
      "Imputing row 2401/5000 with 0 missing, elapsed time: 7.718\n",
      "Imputing row 2501/5000 with 0 missing, elapsed time: 7.718\n",
      "Imputing row 2601/5000 with 0 missing, elapsed time: 7.718\n",
      "Imputing row 2701/5000 with 1 missing, elapsed time: 7.718\n",
      "Imputing row 2801/5000 with 0 missing, elapsed time: 7.718\n",
      "Imputing row 2901/5000 with 0 missing, elapsed time: 7.734\n",
      "Imputing row 3001/5000 with 0 missing, elapsed time: 7.736\n",
      "Imputing row 3101/5000 with 0 missing, elapsed time: 7.736\n",
      "Imputing row 3201/5000 with 0 missing, elapsed time: 7.736\n",
      "Imputing row 3301/5000 with 0 missing, elapsed time: 7.736\n",
      "Imputing row 3401/5000 with 1 missing, elapsed time: 7.736\n",
      "Imputing row 3501/5000 with 0 missing, elapsed time: 7.736\n",
      "Imputing row 3601/5000 with 0 missing, elapsed time: 7.736\n",
      "Imputing row 3701/5000 with 0 missing, elapsed time: 7.736\n",
      "Imputing row 3801/5000 with 1 missing, elapsed time: 7.736\n",
      "Imputing row 3901/5000 with 0 missing, elapsed time: 7.736\n",
      "Imputing row 4001/5000 with 0 missing, elapsed time: 7.752\n",
      "Imputing row 4101/5000 with 0 missing, elapsed time: 7.752\n",
      "Imputing row 4201/5000 with 0 missing, elapsed time: 7.752\n",
      "Imputing row 4301/5000 with 0 missing, elapsed time: 7.752\n",
      "Imputing row 4401/5000 with 0 missing, elapsed time: 7.752\n",
      "Imputing row 4501/5000 with 0 missing, elapsed time: 7.752\n",
      "Imputing row 4601/5000 with 0 missing, elapsed time: 7.752\n",
      "Imputing row 4701/5000 with 0 missing, elapsed time: 7.752\n",
      "Imputing row 4801/5000 with 0 missing, elapsed time: 7.752\n",
      "Imputing row 4901/5000 with 0 missing, elapsed time: 7.767\n"
     ]
    }
   ],
   "source": [
    "# Impute NAs with KNN Imputation\n",
    "numeric_data= pd.DataFrame(KNN(k=9).fit_transform(numeric_data),columns=numeric_data.columns)"
   ]
  },
  {
   "cell_type": "code",
   "execution_count": 8,
   "metadata": {},
   "outputs": [
    {
     "name": "stdout",
     "output_type": "stream",
     "text": [
      "total intl calls\n",
      "total intl minutes\n",
      "number vmail messages\n",
      "total eve minutes\n",
      "total night calls\n",
      "total night minutes\n",
      "total day calls\n",
      "total day minutes\n",
      "total eve calls\n",
      "account length\n"
     ]
    }
   ],
   "source": [
    "#Normalization\n",
    "for i in new_cnames:\n",
    "    print(i)\n",
    "    numeric_data[i] = (numeric_data[i] - min(numeric_data[i]))/(max(numeric_data[i]) - min(numeric_data[i]))"
   ]
  },
  {
   "cell_type": "code",
   "execution_count": 9,
   "metadata": {},
   "outputs": [
    {
     "data": {
      "text/html": [
       "<div>\n",
       "<style scoped>\n",
       "    .dataframe tbody tr th:only-of-type {\n",
       "        vertical-align: middle;\n",
       "    }\n",
       "\n",
       "    .dataframe tbody tr th {\n",
       "        vertical-align: top;\n",
       "    }\n",
       "\n",
       "    .dataframe thead th {\n",
       "        text-align: right;\n",
       "    }\n",
       "</style>\n",
       "<table border=\"1\" class=\"dataframe\">\n",
       "  <thead>\n",
       "    <tr style=\"text-align: right;\">\n",
       "      <th></th>\n",
       "      <th>total intl calls</th>\n",
       "      <th>total intl minutes</th>\n",
       "      <th>number vmail messages</th>\n",
       "      <th>total eve minutes</th>\n",
       "      <th>total night calls</th>\n",
       "      <th>total night minutes</th>\n",
       "      <th>total day calls</th>\n",
       "      <th>total day minutes</th>\n",
       "      <th>total eve calls</th>\n",
       "      <th>account length</th>\n",
       "    </tr>\n",
       "  </thead>\n",
       "  <tbody>\n",
       "    <tr>\n",
       "      <th>count</th>\n",
       "      <td>5000.000000</td>\n",
       "      <td>5000.000000</td>\n",
       "      <td>5000.000000</td>\n",
       "      <td>5000.000000</td>\n",
       "      <td>5000.000000</td>\n",
       "      <td>5000.000000</td>\n",
       "      <td>5000.000000</td>\n",
       "      <td>5000.000000</td>\n",
       "      <td>5000.000000</td>\n",
       "      <td>5000.000000</td>\n",
       "    </tr>\n",
       "    <tr>\n",
       "      <th>mean</th>\n",
       "      <td>0.423350</td>\n",
       "      <td>0.503379</td>\n",
       "      <td>0.173953</td>\n",
       "      <td>0.501976</td>\n",
       "      <td>0.498356</td>\n",
       "      <td>0.498218</td>\n",
       "      <td>0.501923</td>\n",
       "      <td>0.501503</td>\n",
       "      <td>0.497555</td>\n",
       "      <td>0.476650</td>\n",
       "    </tr>\n",
       "    <tr>\n",
       "      <th>std</th>\n",
       "      <td>0.205874</td>\n",
       "      <td>0.183486</td>\n",
       "      <td>0.307256</td>\n",
       "      <td>0.180140</td>\n",
       "      <td>0.184127</td>\n",
       "      <td>0.179943</td>\n",
       "      <td>0.184220</td>\n",
       "      <td>0.180554</td>\n",
       "      <td>0.180413</td>\n",
       "      <td>0.187477</td>\n",
       "    </tr>\n",
       "    <tr>\n",
       "      <th>min</th>\n",
       "      <td>0.000000</td>\n",
       "      <td>0.000000</td>\n",
       "      <td>0.000000</td>\n",
       "      <td>0.000000</td>\n",
       "      <td>0.000000</td>\n",
       "      <td>0.000000</td>\n",
       "      <td>0.000000</td>\n",
       "      <td>0.000000</td>\n",
       "      <td>0.000000</td>\n",
       "      <td>0.000000</td>\n",
       "    </tr>\n",
       "    <tr>\n",
       "      <th>25%</th>\n",
       "      <td>0.300000</td>\n",
       "      <td>0.381295</td>\n",
       "      <td>0.000000</td>\n",
       "      <td>0.377317</td>\n",
       "      <td>0.375000</td>\n",
       "      <td>0.376479</td>\n",
       "      <td>0.375000</td>\n",
       "      <td>0.376381</td>\n",
       "      <td>0.373832</td>\n",
       "      <td>0.347826</td>\n",
       "    </tr>\n",
       "    <tr>\n",
       "      <th>50%</th>\n",
       "      <td>0.400000</td>\n",
       "      <td>0.507815</td>\n",
       "      <td>0.000000</td>\n",
       "      <td>0.502595</td>\n",
       "      <td>0.500000</td>\n",
       "      <td>0.497966</td>\n",
       "      <td>0.500000</td>\n",
       "      <td>0.500691</td>\n",
       "      <td>0.495327</td>\n",
       "      <td>0.478261</td>\n",
       "    </tr>\n",
       "    <tr>\n",
       "      <th>75%</th>\n",
       "      <td>0.500000</td>\n",
       "      <td>0.625899</td>\n",
       "      <td>0.285714</td>\n",
       "      <td>0.624166</td>\n",
       "      <td>0.625000</td>\n",
       "      <td>0.621302</td>\n",
       "      <td>0.625000</td>\n",
       "      <td>0.624309</td>\n",
       "      <td>0.616822</td>\n",
       "      <td>0.603865</td>\n",
       "    </tr>\n",
       "    <tr>\n",
       "      <th>max</th>\n",
       "      <td>1.000000</td>\n",
       "      <td>1.000000</td>\n",
       "      <td>1.000000</td>\n",
       "      <td>1.000000</td>\n",
       "      <td>1.000000</td>\n",
       "      <td>1.000000</td>\n",
       "      <td>1.000000</td>\n",
       "      <td>1.000000</td>\n",
       "      <td>1.000000</td>\n",
       "      <td>1.000000</td>\n",
       "    </tr>\n",
       "  </tbody>\n",
       "</table>\n",
       "</div>"
      ],
      "text/plain": [
       "       total intl calls  total intl minutes  number vmail messages  \\\n",
       "count       5000.000000         5000.000000            5000.000000   \n",
       "mean           0.423350            0.503379               0.173953   \n",
       "std            0.205874            0.183486               0.307256   \n",
       "min            0.000000            0.000000               0.000000   \n",
       "25%            0.300000            0.381295               0.000000   \n",
       "50%            0.400000            0.507815               0.000000   \n",
       "75%            0.500000            0.625899               0.285714   \n",
       "max            1.000000            1.000000               1.000000   \n",
       "\n",
       "       total eve minutes  total night calls  total night minutes  \\\n",
       "count        5000.000000        5000.000000          5000.000000   \n",
       "mean            0.501976           0.498356             0.498218   \n",
       "std             0.180140           0.184127             0.179943   \n",
       "min             0.000000           0.000000             0.000000   \n",
       "25%             0.377317           0.375000             0.376479   \n",
       "50%             0.502595           0.500000             0.497966   \n",
       "75%             0.624166           0.625000             0.621302   \n",
       "max             1.000000           1.000000             1.000000   \n",
       "\n",
       "       total day calls  total day minutes  total eve calls  account length  \n",
       "count      5000.000000        5000.000000      5000.000000     5000.000000  \n",
       "mean          0.501923           0.501503         0.497555        0.476650  \n",
       "std           0.184220           0.180554         0.180413        0.187477  \n",
       "min           0.000000           0.000000         0.000000        0.000000  \n",
       "25%           0.375000           0.376381         0.373832        0.347826  \n",
       "50%           0.500000           0.500691         0.495327        0.478261  \n",
       "75%           0.625000           0.624309         0.616822        0.603865  \n",
       "max           1.000000           1.000000         1.000000        1.000000  "
      ]
     },
     "execution_count": 9,
     "metadata": {},
     "output_type": "execute_result"
    }
   ],
   "source": [
    "# To check the min & max value to verify the normalization\n",
    "numeric_data.describe()"
   ]
  },
  {
   "cell_type": "code",
   "execution_count": 10,
   "metadata": {},
   "outputs": [
    {
     "name": "stdout",
     "output_type": "stream",
     "text": [
      "state\n",
      "international plan\n",
      "voice mail plan\n",
      "number customer service calls\n",
      "Churn\n"
     ]
    },
    {
     "data": {
      "text/html": [
       "<div>\n",
       "<style scoped>\n",
       "    .dataframe tbody tr th:only-of-type {\n",
       "        vertical-align: middle;\n",
       "    }\n",
       "\n",
       "    .dataframe tbody tr th {\n",
       "        vertical-align: top;\n",
       "    }\n",
       "\n",
       "    .dataframe thead th {\n",
       "        text-align: right;\n",
       "    }\n",
       "</style>\n",
       "<table border=\"1\" class=\"dataframe\">\n",
       "  <thead>\n",
       "    <tr style=\"text-align: right;\">\n",
       "      <th></th>\n",
       "      <th>total intl calls</th>\n",
       "      <th>total intl minutes</th>\n",
       "      <th>number vmail messages</th>\n",
       "      <th>total eve minutes</th>\n",
       "      <th>total night calls</th>\n",
       "      <th>total night minutes</th>\n",
       "      <th>total day calls</th>\n",
       "      <th>total day minutes</th>\n",
       "      <th>total eve calls</th>\n",
       "      <th>account length</th>\n",
       "      <th>state_AK</th>\n",
       "      <th>state_AL</th>\n",
       "      <th>state_AR</th>\n",
       "      <th>state_AZ</th>\n",
       "      <th>state_CA</th>\n",
       "      <th>...</th>\n",
       "      <th>international plan_ yes</th>\n",
       "      <th>voice mail plan_ no</th>\n",
       "      <th>voice mail plan_ yes</th>\n",
       "      <th>number customer service calls_0</th>\n",
       "      <th>number customer service calls_1</th>\n",
       "      <th>number customer service calls_2</th>\n",
       "      <th>number customer service calls_3</th>\n",
       "      <th>number customer service calls_4</th>\n",
       "      <th>number customer service calls_5</th>\n",
       "      <th>number customer service calls_6</th>\n",
       "      <th>number customer service calls_7</th>\n",
       "      <th>number customer service calls_8</th>\n",
       "      <th>number customer service calls_9</th>\n",
       "      <th>Churn_ False.</th>\n",
       "      <th>Churn_ True.</th>\n",
       "    </tr>\n",
       "  </thead>\n",
       "  <tbody>\n",
       "    <tr>\n",
       "      <th>0</th>\n",
       "      <td>0.3</td>\n",
       "      <td>0.482014</td>\n",
       "      <td>0.595238</td>\n",
       "      <td>0.489993</td>\n",
       "      <td>0.413462</td>\n",
       "      <td>0.661982</td>\n",
       "      <td>0.596154</td>\n",
       "      <td>0.794199</td>\n",
       "      <td>0.485981</td>\n",
       "      <td>0.613527</td>\n",
       "      <td>0</td>\n",
       "      <td>0</td>\n",
       "      <td>0</td>\n",
       "      <td>0</td>\n",
       "      <td>0</td>\n",
       "      <td>...</td>\n",
       "      <td>0</td>\n",
       "      <td>0</td>\n",
       "      <td>1</td>\n",
       "      <td>0</td>\n",
       "      <td>1</td>\n",
       "      <td>0</td>\n",
       "      <td>0</td>\n",
       "      <td>0</td>\n",
       "      <td>0</td>\n",
       "      <td>0</td>\n",
       "      <td>0</td>\n",
       "      <td>0</td>\n",
       "      <td>0</td>\n",
       "      <td>1</td>\n",
       "      <td>0</td>\n",
       "    </tr>\n",
       "    <tr>\n",
       "      <th>1</th>\n",
       "      <td>0.3</td>\n",
       "      <td>0.748201</td>\n",
       "      <td>0.619048</td>\n",
       "      <td>0.482950</td>\n",
       "      <td>0.528846</td>\n",
       "      <td>0.697855</td>\n",
       "      <td>0.721154</td>\n",
       "      <td>0.436809</td>\n",
       "      <td>0.523364</td>\n",
       "      <td>0.512077</td>\n",
       "      <td>0</td>\n",
       "      <td>0</td>\n",
       "      <td>0</td>\n",
       "      <td>0</td>\n",
       "      <td>0</td>\n",
       "      <td>...</td>\n",
       "      <td>0</td>\n",
       "      <td>0</td>\n",
       "      <td>1</td>\n",
       "      <td>0</td>\n",
       "      <td>1</td>\n",
       "      <td>0</td>\n",
       "      <td>0</td>\n",
       "      <td>0</td>\n",
       "      <td>0</td>\n",
       "      <td>0</td>\n",
       "      <td>0</td>\n",
       "      <td>0</td>\n",
       "      <td>0</td>\n",
       "      <td>1</td>\n",
       "      <td>0</td>\n",
       "    </tr>\n",
       "    <tr>\n",
       "      <th>2</th>\n",
       "      <td>0.5</td>\n",
       "      <td>0.640288</td>\n",
       "      <td>0.000000</td>\n",
       "      <td>0.207561</td>\n",
       "      <td>0.538462</td>\n",
       "      <td>0.358358</td>\n",
       "      <td>0.634615</td>\n",
       "      <td>0.719268</td>\n",
       "      <td>0.588785</td>\n",
       "      <td>0.657005</td>\n",
       "      <td>0</td>\n",
       "      <td>0</td>\n",
       "      <td>0</td>\n",
       "      <td>0</td>\n",
       "      <td>0</td>\n",
       "      <td>...</td>\n",
       "      <td>0</td>\n",
       "      <td>1</td>\n",
       "      <td>0</td>\n",
       "      <td>1</td>\n",
       "      <td>0</td>\n",
       "      <td>0</td>\n",
       "      <td>0</td>\n",
       "      <td>0</td>\n",
       "      <td>0</td>\n",
       "      <td>0</td>\n",
       "      <td>0</td>\n",
       "      <td>0</td>\n",
       "      <td>0</td>\n",
       "      <td>1</td>\n",
       "      <td>0</td>\n",
       "    </tr>\n",
       "    <tr>\n",
       "      <th>3</th>\n",
       "      <td>0.7</td>\n",
       "      <td>0.237410</td>\n",
       "      <td>0.000000</td>\n",
       "      <td>0.421532</td>\n",
       "      <td>0.394231</td>\n",
       "      <td>0.485207</td>\n",
       "      <td>0.221154</td>\n",
       "      <td>0.912638</td>\n",
       "      <td>0.383178</td>\n",
       "      <td>0.400966</td>\n",
       "      <td>0</td>\n",
       "      <td>0</td>\n",
       "      <td>0</td>\n",
       "      <td>0</td>\n",
       "      <td>0</td>\n",
       "      <td>...</td>\n",
       "      <td>1</td>\n",
       "      <td>1</td>\n",
       "      <td>0</td>\n",
       "      <td>0</td>\n",
       "      <td>0</td>\n",
       "      <td>1</td>\n",
       "      <td>0</td>\n",
       "      <td>0</td>\n",
       "      <td>0</td>\n",
       "      <td>0</td>\n",
       "      <td>0</td>\n",
       "      <td>0</td>\n",
       "      <td>0</td>\n",
       "      <td>1</td>\n",
       "      <td>0</td>\n",
       "    </tr>\n",
       "  </tbody>\n",
       "</table>\n",
       "<p>4 rows × 77 columns</p>\n",
       "</div>"
      ],
      "text/plain": [
       "   total intl calls  total intl minutes  number vmail messages  \\\n",
       "0               0.3            0.482014               0.595238   \n",
       "1               0.3            0.748201               0.619048   \n",
       "2               0.5            0.640288               0.000000   \n",
       "3               0.7            0.237410               0.000000   \n",
       "\n",
       "   total eve minutes  total night calls  total night minutes  total day calls  \\\n",
       "0           0.489993           0.413462             0.661982         0.596154   \n",
       "1           0.482950           0.528846             0.697855         0.721154   \n",
       "2           0.207561           0.538462             0.358358         0.634615   \n",
       "3           0.421532           0.394231             0.485207         0.221154   \n",
       "\n",
       "   total day minutes  total eve calls  account length  state_AK  state_AL  \\\n",
       "0           0.794199         0.485981        0.613527         0         0   \n",
       "1           0.436809         0.523364        0.512077         0         0   \n",
       "2           0.719268         0.588785        0.657005         0         0   \n",
       "3           0.912638         0.383178        0.400966         0         0   \n",
       "\n",
       "   state_AR  state_AZ  state_CA      ...       international plan_ yes  \\\n",
       "0         0         0         0      ...                             0   \n",
       "1         0         0         0      ...                             0   \n",
       "2         0         0         0      ...                             0   \n",
       "3         0         0         0      ...                             1   \n",
       "\n",
       "   voice mail plan_ no  voice mail plan_ yes  number customer service calls_0  \\\n",
       "0                    0                     1                                0   \n",
       "1                    0                     1                                0   \n",
       "2                    1                     0                                1   \n",
       "3                    1                     0                                0   \n",
       "\n",
       "   number customer service calls_1  number customer service calls_2  \\\n",
       "0                                1                                0   \n",
       "1                                1                                0   \n",
       "2                                0                                0   \n",
       "3                                0                                1   \n",
       "\n",
       "   number customer service calls_3  number customer service calls_4  \\\n",
       "0                                0                                0   \n",
       "1                                0                                0   \n",
       "2                                0                                0   \n",
       "3                                0                                0   \n",
       "\n",
       "   number customer service calls_5  number customer service calls_6  \\\n",
       "0                                0                                0   \n",
       "1                                0                                0   \n",
       "2                                0                                0   \n",
       "3                                0                                0   \n",
       "\n",
       "   number customer service calls_7  number customer service calls_8  \\\n",
       "0                                0                                0   \n",
       "1                                0                                0   \n",
       "2                                0                                0   \n",
       "3                                0                                0   \n",
       "\n",
       "   number customer service calls_9  Churn_ False.  Churn_ True.  \n",
       "0                                0              1             0  \n",
       "1                                0              1             0  \n",
       "2                                0              1             0  \n",
       "3                                0              1             0  \n",
       "\n",
       "[4 rows x 77 columns]"
      ]
     },
     "execution_count": 10,
     "metadata": {},
     "output_type": "execute_result"
    }
   ],
   "source": [
    "#Loading numeric dataset to a new dataset \n",
    "logit_data=numeric_data\n",
    "\n",
    "#Replace categorical values with corresponding dummy values\n",
    "for i in ['state','international plan','voice mail plan','number customer service calls','Churn']:\n",
    "    print(i)\n",
    "    temp = pd.get_dummies(categorical_data[i], prefix = i)\n",
    "    logit_data = logit_data.join(temp)\n",
    "\n",
    "# Visualize the top 4 rows of logit_data\n",
    "logit_data.head(4)"
   ]
  },
  {
   "cell_type": "code",
   "execution_count": 14,
   "metadata": {},
   "outputs": [
    {
     "data": {
      "text/html": [
       "<div>\n",
       "<style scoped>\n",
       "    .dataframe tbody tr th:only-of-type {\n",
       "        vertical-align: middle;\n",
       "    }\n",
       "\n",
       "    .dataframe tbody tr th {\n",
       "        vertical-align: top;\n",
       "    }\n",
       "\n",
       "    .dataframe thead th {\n",
       "        text-align: right;\n",
       "    }\n",
       "</style>\n",
       "<table border=\"1\" class=\"dataframe\">\n",
       "  <thead>\n",
       "    <tr style=\"text-align: right;\">\n",
       "      <th></th>\n",
       "      <th>total intl calls</th>\n",
       "      <th>total intl minutes</th>\n",
       "      <th>number vmail messages</th>\n",
       "      <th>total eve minutes</th>\n",
       "      <th>total night calls</th>\n",
       "      <th>total night minutes</th>\n",
       "      <th>total day calls</th>\n",
       "      <th>total day minutes</th>\n",
       "      <th>total eve calls</th>\n",
       "      <th>account length</th>\n",
       "      <th>state_AK</th>\n",
       "      <th>state_AL</th>\n",
       "      <th>state_AR</th>\n",
       "      <th>state_AZ</th>\n",
       "      <th>state_CA</th>\n",
       "      <th>...</th>\n",
       "      <th>international plan_ no</th>\n",
       "      <th>international plan_ yes</th>\n",
       "      <th>voice mail plan_ no</th>\n",
       "      <th>voice mail plan_ yes</th>\n",
       "      <th>number customer service calls_0</th>\n",
       "      <th>number customer service calls_1</th>\n",
       "      <th>number customer service calls_2</th>\n",
       "      <th>number customer service calls_3</th>\n",
       "      <th>number customer service calls_4</th>\n",
       "      <th>number customer service calls_5</th>\n",
       "      <th>number customer service calls_6</th>\n",
       "      <th>number customer service calls_7</th>\n",
       "      <th>number customer service calls_8</th>\n",
       "      <th>number customer service calls_9</th>\n",
       "      <th>Churn</th>\n",
       "    </tr>\n",
       "  </thead>\n",
       "  <tbody>\n",
       "    <tr>\n",
       "      <th>0</th>\n",
       "      <td>0.3</td>\n",
       "      <td>0.482014</td>\n",
       "      <td>0.595238</td>\n",
       "      <td>0.489993</td>\n",
       "      <td>0.413462</td>\n",
       "      <td>0.661982</td>\n",
       "      <td>0.596154</td>\n",
       "      <td>0.794199</td>\n",
       "      <td>0.485981</td>\n",
       "      <td>0.613527</td>\n",
       "      <td>0</td>\n",
       "      <td>0</td>\n",
       "      <td>0</td>\n",
       "      <td>0</td>\n",
       "      <td>0</td>\n",
       "      <td>...</td>\n",
       "      <td>1</td>\n",
       "      <td>0</td>\n",
       "      <td>0</td>\n",
       "      <td>1</td>\n",
       "      <td>0</td>\n",
       "      <td>1</td>\n",
       "      <td>0</td>\n",
       "      <td>0</td>\n",
       "      <td>0</td>\n",
       "      <td>0</td>\n",
       "      <td>0</td>\n",
       "      <td>0</td>\n",
       "      <td>0</td>\n",
       "      <td>0</td>\n",
       "      <td>0</td>\n",
       "    </tr>\n",
       "    <tr>\n",
       "      <th>1</th>\n",
       "      <td>0.3</td>\n",
       "      <td>0.748201</td>\n",
       "      <td>0.619048</td>\n",
       "      <td>0.482950</td>\n",
       "      <td>0.528846</td>\n",
       "      <td>0.697855</td>\n",
       "      <td>0.721154</td>\n",
       "      <td>0.436809</td>\n",
       "      <td>0.523364</td>\n",
       "      <td>0.512077</td>\n",
       "      <td>0</td>\n",
       "      <td>0</td>\n",
       "      <td>0</td>\n",
       "      <td>0</td>\n",
       "      <td>0</td>\n",
       "      <td>...</td>\n",
       "      <td>1</td>\n",
       "      <td>0</td>\n",
       "      <td>0</td>\n",
       "      <td>1</td>\n",
       "      <td>0</td>\n",
       "      <td>1</td>\n",
       "      <td>0</td>\n",
       "      <td>0</td>\n",
       "      <td>0</td>\n",
       "      <td>0</td>\n",
       "      <td>0</td>\n",
       "      <td>0</td>\n",
       "      <td>0</td>\n",
       "      <td>0</td>\n",
       "      <td>0</td>\n",
       "    </tr>\n",
       "    <tr>\n",
       "      <th>2</th>\n",
       "      <td>0.5</td>\n",
       "      <td>0.640288</td>\n",
       "      <td>0.000000</td>\n",
       "      <td>0.207561</td>\n",
       "      <td>0.538462</td>\n",
       "      <td>0.358358</td>\n",
       "      <td>0.634615</td>\n",
       "      <td>0.719268</td>\n",
       "      <td>0.588785</td>\n",
       "      <td>0.657005</td>\n",
       "      <td>0</td>\n",
       "      <td>0</td>\n",
       "      <td>0</td>\n",
       "      <td>0</td>\n",
       "      <td>0</td>\n",
       "      <td>...</td>\n",
       "      <td>1</td>\n",
       "      <td>0</td>\n",
       "      <td>1</td>\n",
       "      <td>0</td>\n",
       "      <td>1</td>\n",
       "      <td>0</td>\n",
       "      <td>0</td>\n",
       "      <td>0</td>\n",
       "      <td>0</td>\n",
       "      <td>0</td>\n",
       "      <td>0</td>\n",
       "      <td>0</td>\n",
       "      <td>0</td>\n",
       "      <td>0</td>\n",
       "      <td>0</td>\n",
       "    </tr>\n",
       "    <tr>\n",
       "      <th>3</th>\n",
       "      <td>0.7</td>\n",
       "      <td>0.237410</td>\n",
       "      <td>0.000000</td>\n",
       "      <td>0.421532</td>\n",
       "      <td>0.394231</td>\n",
       "      <td>0.485207</td>\n",
       "      <td>0.221154</td>\n",
       "      <td>0.912638</td>\n",
       "      <td>0.383178</td>\n",
       "      <td>0.400966</td>\n",
       "      <td>0</td>\n",
       "      <td>0</td>\n",
       "      <td>0</td>\n",
       "      <td>0</td>\n",
       "      <td>0</td>\n",
       "      <td>...</td>\n",
       "      <td>0</td>\n",
       "      <td>1</td>\n",
       "      <td>1</td>\n",
       "      <td>0</td>\n",
       "      <td>0</td>\n",
       "      <td>0</td>\n",
       "      <td>1</td>\n",
       "      <td>0</td>\n",
       "      <td>0</td>\n",
       "      <td>0</td>\n",
       "      <td>0</td>\n",
       "      <td>0</td>\n",
       "      <td>0</td>\n",
       "      <td>0</td>\n",
       "      <td>0</td>\n",
       "    </tr>\n",
       "    <tr>\n",
       "      <th>4</th>\n",
       "      <td>0.3</td>\n",
       "      <td>0.489209</td>\n",
       "      <td>0.000000</td>\n",
       "      <td>0.308006</td>\n",
       "      <td>0.701923</td>\n",
       "      <td>0.448225</td>\n",
       "      <td>0.625000</td>\n",
       "      <td>0.454420</td>\n",
       "      <td>0.700935</td>\n",
       "      <td>0.357488</td>\n",
       "      <td>0</td>\n",
       "      <td>0</td>\n",
       "      <td>0</td>\n",
       "      <td>0</td>\n",
       "      <td>0</td>\n",
       "      <td>...</td>\n",
       "      <td>0</td>\n",
       "      <td>1</td>\n",
       "      <td>1</td>\n",
       "      <td>0</td>\n",
       "      <td>0</td>\n",
       "      <td>0</td>\n",
       "      <td>0</td>\n",
       "      <td>1</td>\n",
       "      <td>0</td>\n",
       "      <td>0</td>\n",
       "      <td>0</td>\n",
       "      <td>0</td>\n",
       "      <td>0</td>\n",
       "      <td>0</td>\n",
       "      <td>0</td>\n",
       "    </tr>\n",
       "  </tbody>\n",
       "</table>\n",
       "<p>5 rows × 76 columns</p>\n",
       "</div>"
      ],
      "text/plain": [
       "   total intl calls  total intl minutes  number vmail messages  \\\n",
       "0               0.3            0.482014               0.595238   \n",
       "1               0.3            0.748201               0.619048   \n",
       "2               0.5            0.640288               0.000000   \n",
       "3               0.7            0.237410               0.000000   \n",
       "4               0.3            0.489209               0.000000   \n",
       "\n",
       "   total eve minutes  total night calls  total night minutes  total day calls  \\\n",
       "0           0.489993           0.413462             0.661982         0.596154   \n",
       "1           0.482950           0.528846             0.697855         0.721154   \n",
       "2           0.207561           0.538462             0.358358         0.634615   \n",
       "3           0.421532           0.394231             0.485207         0.221154   \n",
       "4           0.308006           0.701923             0.448225         0.625000   \n",
       "\n",
       "   total day minutes  total eve calls  account length  state_AK  state_AL  \\\n",
       "0           0.794199         0.485981        0.613527         0         0   \n",
       "1           0.436809         0.523364        0.512077         0         0   \n",
       "2           0.719268         0.588785        0.657005         0         0   \n",
       "3           0.912638         0.383178        0.400966         0         0   \n",
       "4           0.454420         0.700935        0.357488         0         0   \n",
       "\n",
       "   state_AR  state_AZ  state_CA  ...    international plan_ no  \\\n",
       "0         0         0         0  ...                         1   \n",
       "1         0         0         0  ...                         1   \n",
       "2         0         0         0  ...                         1   \n",
       "3         0         0         0  ...                         0   \n",
       "4         0         0         0  ...                         0   \n",
       "\n",
       "   international plan_ yes  voice mail plan_ no  voice mail plan_ yes  \\\n",
       "0                        0                    0                     1   \n",
       "1                        0                    0                     1   \n",
       "2                        0                    1                     0   \n",
       "3                        1                    1                     0   \n",
       "4                        1                    1                     0   \n",
       "\n",
       "   number customer service calls_0  number customer service calls_1  \\\n",
       "0                                0                                1   \n",
       "1                                0                                1   \n",
       "2                                1                                0   \n",
       "3                                0                                0   \n",
       "4                                0                                0   \n",
       "\n",
       "   number customer service calls_2  number customer service calls_3  \\\n",
       "0                                0                                0   \n",
       "1                                0                                0   \n",
       "2                                0                                0   \n",
       "3                                1                                0   \n",
       "4                                0                                1   \n",
       "\n",
       "   number customer service calls_4  number customer service calls_5  \\\n",
       "0                                0                                0   \n",
       "1                                0                                0   \n",
       "2                                0                                0   \n",
       "3                                0                                0   \n",
       "4                                0                                0   \n",
       "\n",
       "   number customer service calls_6  number customer service calls_7  \\\n",
       "0                                0                                0   \n",
       "1                                0                                0   \n",
       "2                                0                                0   \n",
       "3                                0                                0   \n",
       "4                                0                                0   \n",
       "\n",
       "   number customer service calls_8  number customer service calls_9  Churn  \n",
       "0                                0                                0      0  \n",
       "1                                0                                0      0  \n",
       "2                                0                                0      0  \n",
       "3                                0                                0      0  \n",
       "4                                0                                0      0  \n",
       "\n",
       "[5 rows x 76 columns]"
      ]
     },
     "execution_count": 14,
     "metadata": {},
     "output_type": "execute_result"
    }
   ],
   "source": [
    "#Drop Churn_ False. variable as it is not required\n",
    "logit_data.drop(['Churn_ False.'],axis=1,inplace=True)\n",
    "# Change column name Churn_ True. to Churn\n",
    "logit_data.rename(columns={'Churn_ True.':'Churn'},inplace=True)\n",
    "logit_data.head(5)"
   ]
  },
  {
   "cell_type": "code",
   "execution_count": 15,
   "metadata": {},
   "outputs": [
    {
     "name": "stdout",
     "output_type": "stream",
     "text": [
      "The shape of train_data is (3333, 76)\n",
      "The shape of test data is (1667, 76)\n"
     ]
    }
   ],
   "source": [
    "#Separate the train & test dataset\n",
    "logit_train = logit_data.iloc[0:3333,]\n",
    "logit_test = logit_data.iloc[3333:,].reset_index(drop=True)\n",
    "print(\"The shape of train_data is\",logit_train.shape)\n",
    "print(\"The shape of test data is\",logit_test.shape)"
   ]
  },
  {
   "cell_type": "code",
   "execution_count": 16,
   "metadata": {},
   "outputs": [
    {
     "data": {
      "text/plain": [
       "0    2850\n",
       "1     483\n",
       "Name: Churn, dtype: int64"
      ]
     },
     "execution_count": 16,
     "metadata": {},
     "output_type": "execute_result"
    }
   ],
   "source": [
    "# Check the data imbalance in the target variable\n",
    "logit_train['Churn'].value_counts()"
   ]
  },
  {
   "cell_type": "code",
   "execution_count": 17,
   "metadata": {},
   "outputs": [],
   "source": [
    "# SMOTE Sampling\n",
    "from imblearn.over_sampling import SMOTE\n",
    "smote=SMOTE(ratio='minority',random_state=123)\n",
    "X_train_logit=logit_train.drop('Churn',1)\n",
    "Y_train_logit=logit_train['Churn']\n",
    "X_smote_logit, Y_smote_logit = smote.fit_sample(X_train_logit, Y_train_logit)"
   ]
  },
  {
   "cell_type": "code",
   "execution_count": 18,
   "metadata": {},
   "outputs": [
    {
     "data": {
      "text/plain": [
       "1    2850\n",
       "0    2850\n",
       "Name: Churn, dtype: int64"
      ]
     },
     "execution_count": 18,
     "metadata": {},
     "output_type": "execute_result"
    }
   ],
   "source": [
    "#Convert X_smote_logit & Y_smote_logit to dataframes\n",
    "X_smote_df = pd.DataFrame(X_smote_logit, columns = ['total intl calls', 'total intl minutes', 'number vmail messages','total eve minutes', 'total night calls', 'total night minutes','total day calls', 'total day minutes', 'total eve calls','account length', 'state_AK', 'state_AL', 'state_AR', 'state_AZ','state_CA', 'state_CO', 'state_CT', 'state_DC', 'state_DE', 'state_FL','state_GA', 'state_HI', 'state_IA', 'state_ID', 'state_IL', 'state_IN','state_KS', 'state_KY', 'state_LA', 'state_MA', 'state_MD', 'state_ME','state_MI', 'state_MN', 'state_MO', 'state_MS', 'state_MT', 'state_NC','state_ND', 'state_NE', 'state_NH', 'state_NJ', 'state_NM', 'state_NV','state_NY', 'state_OH', 'state_OK', 'state_OR', 'state_PA', 'state_RI','state_SC', 'state_SD', 'state_TN', 'state_TX', 'state_UT', 'state_VA','state_VT', 'state_WA', 'state_WI', 'state_WV', 'state_WY','international plan_ no', 'international plan_ yes','voice mail plan_ no', 'voice mail plan_ yes','number customer service calls_0', 'number customer service calls_1','number customer service calls_2', 'number customer service calls_3','number customer service calls_4', 'number customer service calls_5','number customer service calls_6', 'number customer service calls_7','number customer service calls_8', 'number customer service calls_9']) \n",
    "Y_smote_df=pd.DataFrame(Y_smote_logit,columns=['Churn'])\n",
    "# Check the proportion of 0 & 1 values in Churn varaible\n",
    "Y_smote_df['Churn'].value_counts()"
   ]
  },
  {
   "cell_type": "code",
   "execution_count": 24,
   "metadata": {},
   "outputs": [
    {
     "name": "stderr",
     "output_type": "stream",
     "text": [
      "C:\\Users\\Navaneeth\\Anaconda3\\lib\\site-packages\\sklearn\\linear_model\\logistic.py:432: FutureWarning: Default solver will be changed to 'lbfgs' in 0.22. Specify a solver to silence this warning.\n",
      "  FutureWarning)\n"
     ]
    },
    {
     "data": {
      "text/plain": [
       "LogisticRegression(C=1.0, class_weight=None, dual=False, fit_intercept=True,\n",
       "          intercept_scaling=1, max_iter=100, multi_class='warn',\n",
       "          n_jobs=None, penalty='l2', random_state=123, solver='warn',\n",
       "          tol=0.0001, verbose=0, warm_start=False)"
      ]
     },
     "execution_count": 24,
     "metadata": {},
     "output_type": "execute_result"
    }
   ],
   "source": [
    "#Import & load the Logistic Regression Model\n",
    "from sklearn.linear_model import LogisticRegression\n",
    "logmodel=LogisticRegression(random_state=123)\n",
    "logmodel.fit(X_smote_df,Y_smote_df.values.ravel())"
   ]
  },
  {
   "cell_type": "code",
   "execution_count": 26,
   "metadata": {},
   "outputs": [],
   "source": [
    "# Separating Test predictor & target variables\n",
    "logit_test_data=logit_test.iloc[:,0:75]\n",
    "logit_test_label=logit_test['Churn']"
   ]
  },
  {
   "cell_type": "code",
   "execution_count": 27,
   "metadata": {},
   "outputs": [],
   "source": [
    "#Predict the test cases\n",
    "predictions= logmodel.predict(logit_test_data)"
   ]
  },
  {
   "cell_type": "code",
   "execution_count": 28,
   "metadata": {},
   "outputs": [
    {
     "name": "stdout",
     "output_type": "stream",
     "text": [
      "Logistic Regression Accuracy %: 81.044\n",
      "Logistic Regression FNR %: 23.661\n",
      "Logistic Regression Recall %: 76.339\n",
      "Logistic Regression Precision %: 39.401\n"
     ]
    },
    {
     "data": {
      "text/html": [
       "<div>\n",
       "<style scoped>\n",
       "    .dataframe tbody tr th:only-of-type {\n",
       "        vertical-align: middle;\n",
       "    }\n",
       "\n",
       "    .dataframe tbody tr th {\n",
       "        vertical-align: top;\n",
       "    }\n",
       "\n",
       "    .dataframe thead th {\n",
       "        text-align: right;\n",
       "    }\n",
       "</style>\n",
       "<table border=\"1\" class=\"dataframe\">\n",
       "  <thead>\n",
       "    <tr style=\"text-align: right;\">\n",
       "      <th>Predicted</th>\n",
       "      <th>0</th>\n",
       "      <th>1</th>\n",
       "    </tr>\n",
       "    <tr>\n",
       "      <th>Actual</th>\n",
       "      <th></th>\n",
       "      <th></th>\n",
       "    </tr>\n",
       "  </thead>\n",
       "  <tbody>\n",
       "    <tr>\n",
       "      <th>0</th>\n",
       "      <td>1180</td>\n",
       "      <td>263</td>\n",
       "    </tr>\n",
       "    <tr>\n",
       "      <th>1</th>\n",
       "      <td>53</td>\n",
       "      <td>171</td>\n",
       "    </tr>\n",
       "  </tbody>\n",
       "</table>\n",
       "</div>"
      ],
      "text/plain": [
       "Predicted     0    1\n",
       "Actual              \n",
       "0          1180  263\n",
       "1            53  171"
      ]
     },
     "execution_count": 28,
     "metadata": {},
     "output_type": "execute_result"
    }
   ],
   "source": [
    "#Build the Confusion matrix\n",
    "conf_matrix = pd.crosstab(logit_test_label,predictions,rownames=['Actual'],colnames=['Predicted'])\n",
    "TN = conf_matrix.iloc[0,0]\n",
    "FN = conf_matrix.iloc[1,0]\n",
    "TP = conf_matrix.iloc[1,1]\n",
    "FP = conf_matrix.iloc[0,1]\n",
    "Accuracy=(((TP+TN)*100)/(TP+TN+FP+FN))\n",
    "FNR= (FN*100)/(FN+TP)\n",
    "Recall= ((TP/(TP+FN))*100)\n",
    "Precision = ((TP/(TP+FP))*100)\n",
    "\n",
    "print('Logistic Regression Accuracy %: {:.3f}'.format(Accuracy))\n",
    "print('Logistic Regression FNR %: {:.3f}'.format(FNR))\n",
    "print('Logistic Regression Recall %: {:.3f}'.format(Recall))\n",
    "print('Logistic Regression Precision %: {:.3f}'.format(Precision))\n",
    "pd.crosstab(logit_test_label,predictions,rownames=['Actual'],colnames=['Predicted'])"
   ]
  },
  {
   "cell_type": "code",
   "execution_count": 29,
   "metadata": {},
   "outputs": [
    {
     "data": {
      "text/plain": [
       "['LogisticRegression_Python.sav']"
      ]
     },
     "execution_count": 29,
     "metadata": {},
     "output_type": "execute_result"
    }
   ],
   "source": [
    "# Save the Logistic Regression Model\n",
    "from sklearn.externals import joblib\n",
    "joblib.dump(logmodel, \"LogisticRegression_Python.sav\")"
   ]
  },
  {
   "cell_type": "code",
   "execution_count": null,
   "metadata": {},
   "outputs": [],
   "source": []
  }
 ],
 "metadata": {
  "kernelspec": {
   "display_name": "Python 3",
   "language": "python",
   "name": "python3"
  },
  "language_info": {
   "codemirror_mode": {
    "name": "ipython",
    "version": 3
   },
   "file_extension": ".py",
   "mimetype": "text/x-python",
   "name": "python",
   "nbconvert_exporter": "python",
   "pygments_lexer": "ipython3",
   "version": "3.6.6"
  }
 },
 "nbformat": 4,
 "nbformat_minor": 2
}
